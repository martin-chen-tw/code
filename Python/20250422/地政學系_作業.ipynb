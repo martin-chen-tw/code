{
 "cells": [
  {
   "cell_type": "markdown",
   "metadata": {},
   "source": [
    "# Python 程式設計作業 - 地政學系\n",
    "\n",
    "## 主題：Conditionals、Recursion、Fruitful Functions 及 Iteration\n",
    "\n",
    "本作業將測試您對於條件判斷、遞迴、有回傳值的函數以及迭代的理解與應用能力，結合地政領域的應用場景。"
   ]
  },
  {
   "cell_type": "markdown",
   "metadata": {},
   "source": [
    "### 題目1：土地增值稅計算機\n",
    "\n",
    "在地政領域中，土地增值稅是一個重要概念。請撰寫一個函數 `land_value_tax`，該函數接受以下參數：\n",
    "- `original_price`：土地原始取得價格（元）\n",
    "- `current_price`：土地現在的價格（元）\n",
    "- `holding_years`：持有年數\n",
    "\n",
    "函數應根據以下條件計算土地增值稅：\n",
    "- 如果持有年數少於2年，稅率為40%\n",
    "- 如果持有年數在2年（含）到5年之間，稅率為30%\n",
    "- 如果持有年數在5年（含）到10年之間，稅率為20%\n",
    "- 如果持有年數超過10年（含），稅率為15%\n",
    "\n",
    "增值稅應該基於（current_price - original_price）的差額計算。\n",
    "\n",
    "請完成此函數並測試幾個不同的案例。"
   ]
  },
  {
   "cell_type": "code",
   "execution_count": null,
   "metadata": {},
   "outputs": [],
   "source": [
    "def land_value_tax(original_price, current_price, holding_years):\n",
    "    # 請在此完成你的程式碼\n",
    "    pass\n",
    "\n",
    "# 測試案例\n",
    "# 案例1：持有1年，原價500萬，現價600萬\n",
    "# 案例2：持有3年，原價500萬，現價650萬\n",
    "# 案例3：持有7年，原價500萬，現價700萬\n",
    "# 案例4：持有12年，原價500萬，現價800萬"
   ]
  },
  {
   "cell_type": "markdown",
   "metadata": {},
   "source": [
    "### 題目2：區域房價分析\n",
    "\n",
    "您有一個包含過去幾年某區域房價的列表，請撰寫一個函數 `analyze_housing_prices`，該函數接受房價列表和一個閾值參數，返回以下資訊：\n",
    "1. 房價最高值\n",
    "2. 房價最低值\n",
    "3. 平均房價\n",
    "4. 高於閾值的房價數量\n",
    "5. 連續上漲的最長期間（連續幾個時期房價持續上升）\n",
    "\n",
    "請使用適當的迭代和條件判斷來完成此函數。"
   ]
  },
  {
   "cell_type": "code",
   "execution_count": null,
   "metadata": {},
   "outputs": [],
   "source": [
    "def analyze_housing_prices(prices, threshold):\n",
    "    # 請在此完成你的程式碼\n",
    "    pass\n",
    "\n",
    "# 測試案例\n",
    "prices = [250000, 252000, 255000, 253000, 260000, 265000, 268000, 270000, 268000, 275000]\n",
    "threshold = 260000\n",
    "# 預期結果應包含最高值、最低值、平均房價、高於閾值的房價數量和連續上漲的最長期間"
   ]
  },
  {
   "cell_type": "markdown",
   "metadata": {},
   "source": [
    "### 題目3：土地面積計算（遞迴）\n",
    "\n",
    "在地籍測量中，有時需要將不規則形狀的土地劃分為多個三角形進行面積計算。請撰寫一個遞迴函數 `calculate_total_area`，該函數接受一個列表，其中包含多個三角形的三邊長度（每個三角形由一個含有3個元素的列表表示）。\n",
    "\n",
    "函數應該使用遞迴方式計算所有三角形的總面積。可以使用海倫公式（Heron's formula）計算每個三角形的面積：\n",
    "- 面積 = √(s * (s-a) * (s-b) * (s-c))，其中 s = (a + b + c) / 2，a、b、c 是三角形的三邊長度。\n",
    "\n",
    "請完成此遞迴函數。"
   ]
  },
  {
   "cell_type": "code",
   "execution_count": null,
   "metadata": {},
   "outputs": [],
   "source": [
    "import math\n",
    "\n",
    "def calculate_triangle_area(sides):\n",
    "    # 海倫公式計算三角形面積\n",
    "    a, b, c = sides\n",
    "    s = (a + b + c) / 2\n",
    "    return math.sqrt(s * (s - a) * (s - b) * (s - c))\n",
    "\n",
    "def calculate_total_area(triangles):\n",
    "    # 請使用遞迴實現總面積計算\n",
    "    pass\n",
    "\n",
    "# 測試案例\n",
    "triangles = [[3, 4, 5], [5, 12, 13], [8, 15, 17]]\n",
    "# 預期輸出應為所有三角形的總面積"
   ]
  },
  {
   "cell_type": "markdown",
   "metadata": {},
   "source": [
    "### 題目4：最佳區域選擇器\n",
    "\n",
    "您是一名地產顧問，需要在多個區域中選擇最適合客戶的區域。每個區域有以下特性：\n",
    "- 平均房價\n",
    "- 生活便利度（1-10分）\n",
    "- 交通便利度（1-10分）\n",
    "- 環境品質（1-10分）\n",
    "- 教育資源（1-10分）\n",
    "\n",
    "請撰寫一個函數 `find_best_area`，該函數接受一個區域列表（每個區域是一個字典，包含上述特性）和客戶的偏好權重（也是一個字典，指定每個特性的重要性），返回總評分最高的區域。\n",
    "\n",
    "總評分計算方式為：每個特性的值乘以其權重，並將所有結果相加。但要注意，房價是越低越好，所以在計算時需要將房價做適當的轉換。"
   ]
  },
  {
   "cell_type": "code",
   "execution_count": 1,
   "metadata": {},
   "outputs": [],
   "source": [
    "def find_best_area(areas, preferences):\n",
    "    # 請在此完成你的程式碼\n",
    "    pass\n",
    "\n",
    "# 測試案例\n",
    "areas = [\n",
    "    {\"name\": \"信義區\", \"price\": 850000, \"convenience\": 9, \"transportation\": 8, \"environment\": 7, \"education\": 8},\n",
    "    {\"name\": \"大安區\", \"price\": 950000, \"convenience\": 8, \"transportation\": 9, \"environment\": 6, \"education\": 9},\n",
    "    {\"name\": \"內湖區\", \"price\": 650000, \"convenience\": 7, \"transportation\": 6, \"environment\": 8, \"education\": 7},\n",
    "    {\"name\": \"松山區\", \"price\": 750000, \"convenience\": 8, \"transportation\": 7, \"environment\": 7, \"education\": 8}\n",
    "]\n",
    "\n",
    "preferences = {\"price\": 0.4, \"convenience\": 0.2, \"transportation\": 0.2, \"environment\": 0.1, \"education\": 0.1}\n",
    "# 預期輸出為總評分最高的區域"
   ]
  },
  {
   "cell_type": "markdown",
   "metadata": {},
   "source": [
    "### 題目5：土地利用變更費用計算\n",
    "\n",
    "在土地利用變更過程中，需要繳納不同的費用。請撰寫一個函數 `calculate_land_conversion_fee`，該函數接受以下參數：\n",
    "- `original_usage`：原始用途（\"residential\", \"commercial\", \"industrial\", \"agricultural\"）\n",
    "- `new_usage`：新用途（同上）\n",
    "- `area`：土地面積（平方公尺）\n",
    "- `base_price`：每平方公尺的基本價格（元）\n",
    "\n",
    "不同的用途變更有不同的費用倍率，請根據以下規則計算：\n",
    "- 農業用地轉住宅用地：基本價格 × 1.5\n",
    "- 農業用地轉商業用地：基本價格 × 2.0\n",
    "- 農業用地轉工業用地：基本價格 × 1.8\n",
    "- 住宅用地轉商業用地：基本價格 × 1.2\n",
    "- 住宅用地轉工業用地：基本價格 × 1.0\n",
    "- 商業用地轉工業用地：基本價格 × 0.8\n",
    "- 工業用地轉商業用地：基本價格 × 1.5\n",
    "- 工業或商業用地轉住宅用地：基本價格 × 0.7\n",
    "- 任何用地轉農業用地：基本價格 × 0.5\n",
    "\n",
    "如果轉換不在上述規則中，則返回 \"Invalid conversion\"。\n",
    "\n",
    "總費用為：倍率 × 基本價格 × 面積。"
   ]
  },
  {
   "cell_type": "code",
   "execution_count": null,
   "metadata": {},
   "outputs": [],
   "source": [
    "def calculate_land_conversion_fee(original_usage, new_usage, area, base_price):\n",
    "    # 請在此完成你的程式碼\n",
    "    pass\n",
    "\n",
    "# 測試案例\n",
    "# 案例1：農業用地轉商業用地，面積500平方公尺，基本價格5000元/平方公尺\n",
    "# 案例2：住宅用地轉工業用地，面積800平方公尺，基本價格6000元/平方公尺\n",
    "# 案例3：商業用地轉住宅用地，面積300平方公尺，基本價格7000元/平方公尺\n",
    "# 案例4：工業用地轉農業用地，面積1000平方公尺，基本價格4000元/平方公尺"
   ]
  }
 ],
 "metadata": {
  "kernelspec": {
   "display_name": "Python 3",
   "language": "python",
   "name": "python3"
  },
  "language_info": {
   "codemirror_mode": {
    "name": "ipython",
    "version": 3
   },
   "file_extension": ".py",
   "mimetype": "text/x-python",
   "name": "python",
   "nbconvert_exporter": "python",
   "pygments_lexer": "ipython3",
   "version": "3.13.2"
  }
 },
 "nbformat": 4,
 "nbformat_minor": 4
}
