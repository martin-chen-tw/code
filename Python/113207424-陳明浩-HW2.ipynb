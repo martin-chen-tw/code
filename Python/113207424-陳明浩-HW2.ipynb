{
 "cells": [
  {
   "cell_type": "markdown",
   "id": "b26f2281",
   "metadata": {},
   "source": [
    "### 題目1：土地增值稅計算機"
   ]
  },
  {
   "cell_type": "code",
   "execution_count": 3,
   "id": "869ca130",
   "metadata": {},
   "outputs": [
    {
     "name": "stdout",
     "output_type": "stream",
     "text": [
      "when original_price=100000,current_price=200000,holding_years=3.5,land_value_tax=30000.0\n"
     ]
    }
   ],
   "source": [
    "#coding:utf-8\n",
    "def land_value_tax(original_price, current_price, holding_years):\n",
    "    if holding_years < 2:\n",
    "        value = 0.4\n",
    "    elif holding_years < 5:\n",
    "        value = 0.3\n",
    "    elif holding_years <10:\n",
    "        value = 0.2\n",
    "    else:\n",
    "        value = 0.15\n",
    "    return value*(current_price-original_price)\n",
    "original_price = 100000\n",
    "current_price = 200000\n",
    "holding_years = 3.5\n",
    "print(f\"when original_price={original_price},current_price={current_price},holding_years={holding_years},land_value_tax={land_value_tax(original_price, current_price, holding_years)}\")\n",
    "    \n"
   ]
  },
  {
   "cell_type": "markdown",
   "id": "0d6c4c4e",
   "metadata": {},
   "source": [
    "### 題目2：區域房價分析"
   ]
  },
  {
   "cell_type": "code",
   "execution_count": 11,
   "id": "7398f0a1",
   "metadata": {},
   "outputs": [
    {
     "name": "stdout",
     "output_type": "stream",
     "text": [
      "\n",
      "1. 房價最高值 = 275000\n",
      "2. 房價最低值 = 250000\n",
      "3. 平均房價 = 261600.0\n",
      "4. 高於閾值的房價數量 = 5\n",
      "5. 連續上漲的最長期間（連續幾個時期房價持續上升）= 0\n"
     ]
    }
   ],
   "source": [
    "def analyze_housing_prices(prices, threshold):\n",
    "    price_iter = iter(prices)\n",
    "    max = prices[0]\n",
    "    min = prices[0]\n",
    "    avg = 0\n",
    "    count = 0\n",
    "    num = 0\n",
    "    upper = 0\n",
    "    for i in price_iter:\n",
    "        if i > max:\n",
    "            max = i\n",
    "        if i < min:\n",
    "            min = i\n",
    "        avg = avg + i\n",
    "        if i > threshold:\n",
    "            upper +=1\n",
    "        if i>1:\n",
    "            continue\n",
    "        if prices[i] > prices[i-1]:\n",
    "            num += 1\n",
    "            if count < num:\n",
    "                count = num\n",
    "        elif prices[i] < prices[i-1]:\n",
    "            num = 0\n",
    "    avg = avg / len(prices)\n",
    "    print(f'''\n",
    "1. 房價最高值 = {max}\n",
    "2. 房價最低值 = {min}\n",
    "3. 平均房價 = {avg}\n",
    "4. 高於閾值的房價數量 = {upper}\n",
    "5. 連續上漲的最長期間（連續幾個時期房價持續上升）= {count}''')\n",
    "        \n",
    "prices = [250000, 252000, 255000, 253000, 260000, 265000, 268000, 270000, 268000, 275000]\n",
    "threshold = 260000\n",
    "analyze_housing_prices(prices, threshold)\n"
   ]
  },
  {
   "cell_type": "markdown",
   "id": "455b376b",
   "metadata": {},
   "source": [
    "### 題目3：土地面積計算（遞迴）"
   ]
  },
  {
   "cell_type": "code",
   "execution_count": 12,
   "id": "995799bf",
   "metadata": {},
   "outputs": [
    {
     "name": "stdout",
     "output_type": "stream",
     "text": [
      "三角形總和為96.0\n"
     ]
    }
   ],
   "source": [
    "import math\n",
    "\n",
    "def calculate_triangle_area(sides):\n",
    "    # 海倫公式計算三角形面積\n",
    "    a, b, c = sides\n",
    "    s = (a + b + c) / 2\n",
    "    return math.sqrt(s * (s - a) * (s - b) * (s - c))\n",
    "\n",
    "def calculate_total_area(triangles):\n",
    "    triangels_iter = iter(triangles)\n",
    "    sum=0\n",
    "    for i in triangels_iter:\n",
    "        sum = sum + calculate_triangle_area(i)\n",
    "    return sum\n",
    "# 測試案例\n",
    "triangles = [[3, 4, 5], [5, 12, 13], [8, 15, 17]]\n",
    "print(f\"三角形總和為{calculate_total_area(triangles)}\")"
   ]
  },
  {
   "cell_type": "markdown",
   "id": "20dcce12",
   "metadata": {},
   "source": [
    "### 題目4：最佳區域選擇器"
   ]
  },
  {
   "cell_type": "code",
   "execution_count": 21,
   "id": "3998e047",
   "metadata": {},
   "outputs": [
    {
     "name": "stdout",
     "output_type": "stream",
     "text": [
      "預期輸出為總評分最高的區域為信義區\n"
     ]
    }
   ],
   "source": [
    "def find_best_area(areas, preferences):\n",
    "    score = []\n",
    "    best = {}\n",
    "    for item in areas:\n",
    "        count =( preferences['price'] * 1000000 / item['price'] \n",
    "        + preferences['convenience'] * item['convenience'] \n",
    "        + preferences['transportation'] * item['transportation'] \n",
    "        + preferences['environment'] * item['environment'] \n",
    "        + preferences['education'] * item['education'])\n",
    "        score.append({'name':item['name'] ,'score':count})\n",
    "    score_iter = iter(score)\n",
    "    best = score[0]\n",
    "    for item in score_iter:\n",
    "        if best['score'] < item['score']:\n",
    "            best = item\n",
    "    return best\n",
    "\n",
    "# 測試案例\n",
    "areas = [\n",
    "    {\"name\": \"信義區\", \"price\": 850000, \"convenience\": 9, \"transportation\": 8, \"environment\": 7, \"education\": 8},\n",
    "    {\"name\": \"大安區\", \"price\": 950000, \"convenience\": 8, \"transportation\": 9, \"environment\": 6, \"education\": 9},\n",
    "    {\"name\": \"內湖區\", \"price\": 650000, \"convenience\": 7, \"transportation\": 6, \"environment\": 8, \"education\": 7},\n",
    "    {\"name\": \"松山區\", \"price\": 750000, \"convenience\": 8, \"transportation\": 7, \"environment\": 7, \"education\": 8}\n",
    "]\n",
    "preferences = {\"price\": 0.4, \"convenience\": 0.2, \"transportation\": 0.2, \"environment\": 0.1, \"education\": 0.1}\n",
    "# 預期輸出為總評分最高的區域\n",
    "best = find_best_area(areas, preferences)\n",
    "print(f\"預期輸出為總評分最高的區域為{best['name']}\")"
   ]
  },
  {
   "cell_type": "markdown",
   "id": "27efec4e",
   "metadata": {},
   "source": [
    "### 題目5：土地利用變更費用計算"
   ]
  },
  {
   "cell_type": "code",
   "execution_count": 23,
   "id": "3bd6a2ed",
   "metadata": {},
   "outputs": [
    {
     "name": "stdout",
     "output_type": "stream",
     "text": [
      "[{'original_usage': 'agricultural', 'new_usage': 'commercial', 'area': 500, 'base_price': 5000, 'tax': 5000000.0}, {'original_usage': 'residential', 'new_usage': 'industrial', 'area': 800, 'base_price': 6000, 'tax': 4800000.0}, {'original_usage': 'commercial', 'new_usage': 'residential', 'area': 300, 'base_price': 7000, 'tax': 1470000.0}, {'original_usage': 'industrial', 'new_usage': 'agricultural', 'area': 1000, 'base_price': 4000, 'tax': 2000000.0}]\n"
     ]
    }
   ],
   "source": [
    "def calculate_land_conversion_fee(original_usage, new_usage, area, base_price):\n",
    "    if original_usage not in (\"residential\", \"commercial\", \"industrial\", \"agricultural\") or \\\n",
    "   new_usage not in (\"residential\", \"commercial\", \"industrial\", \"agricultural\"):\n",
    "        print(\"error\")\n",
    "        return\n",
    "    match original_usage,new_usage:\n",
    "        case \"agricultural\",\"residential\":\n",
    "            ratio = 1.5\n",
    "        case \"agricultural\",\"commercial\":\n",
    "            ratio = 2.0\n",
    "        case \"agricultural\",\"industrial\":\n",
    "            ratio = 1.8\n",
    "        case \"residential\",\"commercial\":\n",
    "            ratio = 1.2\n",
    "        case \"residential\",\"industrial\":\n",
    "            ratio = 1.0\n",
    "        case \"commercial\",\"industrial\":\n",
    "            ratio=0.8\n",
    "        case \"industrial\",\"commercial\":\n",
    "            ratio = 1.5\n",
    "        case \"industrial\", \"residential\":\n",
    "            ratio = 0.7\n",
    "        case \"commercial\", \"residential\":\n",
    "            ratio = 0.7\n",
    "        case _:\n",
    "            if new_usage == \"agricultural\":\n",
    "                ratio = 0.5\n",
    "            else:\n",
    "                return \"Invalid conversion\"\n",
    "    return area * base_price * ratio\n",
    "\n",
    "# 測試案例\n",
    "test_cases = [\n",
    "    {\n",
    "        \"original_usage\": \"agricultural\",\n",
    "        \"new_usage\": \"commercial\",\n",
    "        \"area\": 500,\n",
    "        \"base_price\": 5000\n",
    "    },\n",
    "    {\n",
    "        \"original_usage\": \"residential\",\n",
    "        \"new_usage\": \"industrial\",\n",
    "        \"area\": 800,\n",
    "        \"base_price\": 6000\n",
    "    },\n",
    "    {\n",
    "        \"original_usage\": \"commercial\",\n",
    "        \"new_usage\": \"residential\",\n",
    "        \"area\": 300,\n",
    "        \"base_price\": 7000\n",
    "    },\n",
    "    {\n",
    "        \"original_usage\": \"industrial\",\n",
    "        \"new_usage\": \"agricultural\",\n",
    "        \"area\": 1000,\n",
    "        \"base_price\": 4000\n",
    "    }\n",
    "]\n",
    "test_case_iter = iter(test_cases)\n",
    "i = 0\n",
    "for item in test_case_iter:\n",
    "    tax = calculate_land_conversion_fee(item['original_usage'], item['new_usage'], item['area'], item['base_price'])   \n",
    "    test_cases[i] = {**test_cases[i],'tax':tax}\n",
    "    i+=1\n",
    "print(test_cases)"
   ]
  }
 ],
 "metadata": {
  "kernelspec": {
   "display_name": "Python 3",
   "language": "python",
   "name": "python3"
  },
  "language_info": {
   "codemirror_mode": {
    "name": "ipython",
    "version": 3
   },
   "file_extension": ".py",
   "mimetype": "text/x-python",
   "name": "python",
   "nbconvert_exporter": "python",
   "pygments_lexer": "ipython3",
   "version": "3.13.2"
  }
 },
 "nbformat": 4,
 "nbformat_minor": 5
}
