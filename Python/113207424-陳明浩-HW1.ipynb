{
 "cells": [
  {
   "cell_type": "markdown",
   "metadata": {},
   "source": [
    "## 題目一：土地面積計算函數"
   ]
  },
  {
   "cell_type": "code",
   "execution_count": null,
   "metadata": {},
   "outputs": [],
   "source": [
    "# -*- coding: big5 -*-\n",
    "def calculate_land_area(coordinates):\n",
    "    \n",
    "    # 定義初始值 area = 0\n",
    "    area = 0\n",
    "    coordinates = list(coordinates)\n",
    "    coordinates.append(coordinates[0])  # 確保坐標閉合\n",
    "    for i in range(len(coordinates) - 1):\n",
    "        # 核心演算法，計算面積的累加\n",
    "        x1, y1 = coordinates[i]\n",
    "        x2, y2 = coordinates[i + 1]\n",
    "        area += (x1 * y2 - x2 * y1)\n",
    "    return abs(area / 2)\n",
    "        \n",
    "# ChatGPT給出的解法等同於 calculate_land_area(coordinates):\n",
    "\n",
    "# 定義一個簡單的長方形坐標\n",
    "coordinates = [(1, 2), (-1, 2), (-1, -2), (1, -2)]\n",
    "# 顯示結果\n",
    "print(f\"坐標對應的面積為{calculate_land_area(coordinates)}\")"
   ]
  },
  {
   "cell_type": "markdown",
   "metadata": {},
   "source": [
    "## 題目二：座標轉換函數\n"
   ]
  },
  {
   "cell_type": "code",
   "execution_count": null,
   "metadata": {},
   "outputs": [],
   "source": [
    "# -*- coding: big5 -*-\n",
    "import math\n",
    "def convert_coordinates (coord_type,x,y,to_type):\n",
    "    #將 coord_type 與 to_type 的字串全轉換為大寫\n",
    "    coord_type = coord_type.upper()\n",
    "    to_type = to_type.upper()\n",
    "    #檢驗input合理性\n",
    "    error = 0\n",
    "    if (coord_type != \"TWD97\" and coord_type != \"WGS84\"):\n",
    "        print(\"roord_type輸入錯誤\\n\")\n",
    "        error=1\n",
    "    if (to_type != \"TWD97\" and to_type != \"WGS84\"):\n",
    "        print(\"to_type輸入錯誤\\n\")\n",
    "        error=1\n",
    "    #報錯\n",
    "    if(error == 1):\n",
    "        return \"請先修復錯誤\"\n",
    "    #如果coord_type與to_type相同，則不需要任何的轉換\n",
    "    if(coord_type == to_type):\n",
    "        return x,y\n",
    "    #核心演算法\n",
    "    A= 0.00001549\n",
    "    B= 0.000006521\n",
    "    if to_type == \"WGS84\" :\n",
    "        y = y * 0.00000899823754\n",
    "        x = 121 + (x - 250000) * 0.000008983152841195214 / math.cos(math.radians(y))\n",
    "    if to_type == \"TWD97\":\n",
    "        x = (x - 121) * math.cos(math.radians(y)) / 0.000008983152841195214 + 250000\n",
    "        y = y / 0.00000899823754\n",
    "    return x,y\n",
    "#初始值設定\n",
    "coord_type = \"twd97\"\n",
    "to_type = \"wgs84\"\n",
    "x = 50\n",
    "y = 20\n",
    "print(f\"您原本的x,y值為({x},{y})\\ncoord_type = {coord_type}, to_type = {to_type}\\n後轉換的座標為{convert_coordinates(coord_type, x, y, to_type)}\")"
   ]
  },
  {
   "cell_type": "markdown",
   "metadata": {},
   "source": [
    "## 題目三：地籍資料處理函數\n"
   ]
  },
  {
   "cell_type": "code",
   "execution_count": null,
   "metadata": {},
   "outputs": [],
   "source": [
    "# -*- coding: big5 -*-\n",
    "\n",
    "def filter_land_data(land_data, filter_criteria):\n",
    "    # 過濾函數：檢查每條資料是否符合過濾條件\n",
    "    filtered_data = filter(\n",
    "        lambda data: (\n",
    "            (filter_criteria.get('max_id') is None or data['id'] <= filter_criteria['max_id']) and\n",
    "            (filter_criteria.get('spec_area') is None or data['area'] == filter_criteria['spec_area']) and\n",
    "            (filter_criteria.get('zoning') is None or data['zoning'] == filter_criteria['zoning']) and\n",
    "            (filter_criteria.get('min_area') is None or data['area'] >= filter_criteria['min_area']) and\n",
    "            (filter_criteria.get('max_value') is None or data['value'] <= filter_criteria['max_value'])\n",
    "        ),land_data\n",
    "    )\n",
    "    return list(filtered_data)\n",
    "\n",
    "# 假設的土地資料集：每個字典表示一條地籍資料\n",
    "land_data = [\n",
    "    {'id': 1, 'area': 120, 'zoning': '住宅區', 'owner': 'A公司', 'value': 100},\n",
    "    {'id': 2, 'area': 80, 'zoning': '商業區', 'owner': 'B公司', 'value': 150},\n",
    "    {'id': 3, 'area': 150, 'zoning': '住宅區', 'owner': 'C公司', 'value': 200},\n",
    "    {'id': 4, 'area': 90, 'zoning': '住宅區', 'owner': 'D公司', 'value': 50},\n",
    "]\n",
    "\n",
    "# 範例過濾條件：過濾住宅區且面積大於等於100且價值小於等於150的資料\n",
    "filter_criteria = {'zoning': '住宅區', 'min_area': 100, 'max_value': 150}\n",
    "\n",
    "# 顯示原本的資料和過濾後的結果\n",
    "print(f\"原本的資料表\\n{land_data}\\n的資料列表符合過濾條件的資料列表\\n{filter_land_data(land_data, filter_criteria)}\")"
   ]
  },
  {
   "cell_type": "markdown",
   "metadata": {},
   "source": [
    "## 題目四：土地估價函數"
   ]
  },
  {
   "cell_type": "code",
   "execution_count": null,
   "metadata": {},
   "outputs": [],
   "source": [
    "# -*- coding: big5 -*-\n",
    "from functools import reduce\n",
    "def estimate_land_value (base_price, area, factors):\n",
    "    # 計算各個因素的影響，將所有因素的乘積作為調整因子\n",
    "    factors_effect = reduce(lambda x,y:x*y, factors.values())\n",
    "    # 計算土地總價\n",
    "    return base_price * area * factors_effect\n",
    "\n",
    "\n",
    "#初始化數值\n",
    "base_price = 50\n",
    "area = 50\n",
    "factors = {'location': 1.2, 'zoning': 0.9, 'accessibility': 1.1}\n",
    "print(f\"土地估值為{estimate_land_value (base_price, area, factors)}\")\n",
    "    \n",
    "    \n"
   ]
  },
  {
   "cell_type": "markdown",
   "metadata": {},
   "source": [
    "## 題目五：地形坡度分析函數\n"
   ]
  },
  {
   "cell_type": "code",
   "execution_count": null,
   "metadata": {},
   "outputs": [],
   "source": [
    "# -*- coding: big5 -*-\n",
    "def analyze_slope(elevation_data, threshold):\n",
    "    #初始化輸出列表\n",
    "    overthreshold_data = []\n",
    "    for i in range(len(elevation_data)-1):\n",
    "        #計算斜率(X差值與Y差值)\n",
    "        delta_x = elevation_data[i+1][0]-elevation_data[i][0]\n",
    "        delta_y = elevation_data[i+1][1]-elevation_data[i][1]\n",
    "        #紀錄斜率是否超過閥值，超過輸入TRUE，否則輸入FALSE\n",
    "        if (delta_y/delta_x >= threshold):\n",
    "            overthreshold_data.append(\"TURE\")\n",
    "        else:\n",
    "            overthreshold_data.append(\"FALSE\")\n",
    "    return overthreshold_data\n",
    "\n",
    "#初始化輸入值\n",
    "elevation_data = [[1,2],[2,4],[3,8],[4,16],[5,32],[6,64],[8,128]]\n",
    "threshold = 16\n",
    "print(f\"輸入值為:{elevation_data}\\n超過閥值的區域有:{analyze_slope(elevation_data, threshold)}\")"
   ]
  },
  {
   "cell_type": "code",
   "execution_count": null,
   "metadata": {},
   "outputs": [],
   "source": [
    "import tkinter as tk\n",
    "window = tk.Tk()\n",
    "window.title(\"Hello World!\")\n",
    "window.minsize(width=500, height=500)\n",
    "window.resizable(width=True, height=True)\n",
    "window.mainloop()"
   ]
  }
 ],
 "metadata": {
  "kernelspec": {
   "display_name": "Python 3",
   "language": "python",
   "name": "python3"
  },
  "language_info": {
   "codemirror_mode": {
    "name": "ipython",
    "version": 3
   },
   "file_extension": ".py",
   "mimetype": "text/x-python",
   "name": "python",
   "nbconvert_exporter": "python",
   "pygments_lexer": "ipython3",
   "version": "3.12.5"
  }
 },
 "nbformat": 4,
 "nbformat_minor": 2
}
