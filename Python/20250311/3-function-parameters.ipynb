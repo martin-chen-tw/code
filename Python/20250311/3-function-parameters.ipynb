{
 "cells": [
  {
   "cell_type": "markdown",
   "metadata": {},
   "source": [
    "# 3. 參數類型與傳遞方式\n",
    "\n",
    "Python 中的函數可以有多種不同類型的參數，理解這些參數類型及其傳遞機制可以讓我們更靈活地設計和使用函數。"
   ]
  },
  {
   "cell_type": "markdown",
   "metadata": {},
   "source": [
    "## 3.1 必要參數（位置參數）\n",
    "\n",
    "必要參數是調用函數時必須提供的參數，按照定義函數時的位置順序傳入。"
   ]
  },
  {
   "cell_type": "code",
   "execution_count": null,
   "metadata": {},
   "outputs": [],
   "source": [
    "def power(base, exponent):\n",
    "    \"\"\"計算 base 的 exponent 次方\"\"\"\n",
    "    return base ** exponent\n",
    "\n",
    "# 正確調用：按順序提供參數\n",
    "result = power(2, 3)  # 2 的 3 次方\n",
    "print(f\"2 的 3 次方 = {result}\")\n",
    "\n",
    "# 錯誤調用：缺少參數\n",
    "try:\n",
    "    power(5)  # 缺少 exponent 參數\n",
    "except Exception as e:\n",
    "    print(f\"錯誤：{e}\")"
   ]
  },
  {
   "cell_type": "markdown",
   "metadata": {},
   "source": [
    "## 3.2 關鍵字參數\n",
    "\n",
    "關鍵字參數允許通過參數名指定參數值，這樣就不必遵循位置順序。"
   ]
  },
  {
   "cell_type": "code",
   "execution_count": null,
   "metadata": {},
   "outputs": [],
   "source": [
    "def greet_person(name, message):\n",
    "    \"\"\"向指定的人發送消息\"\"\"\n",
    "    return f\"{message}，{name}！\"\n",
    "\n",
    "# 使用位置參數\n",
    "greeting1 = greet_person(\"小華\", \"早安\")\n",
    "print(greeting1)\n",
    "\n",
    "# 使用關鍵字參數（順序可以改變）\n",
    "greeting2 = greet_person(message=\"晚安\", name=\"小明\")\n",
    "print(greeting2)\n",
    "\n",
    "# 混合使用位置參數和關鍵字參數\n",
    "# 注意：位置參數必須在關鍵字參數之前\n",
    "greeting3 = greet_person(\"小李\", message=\"午安\")\n",
    "print(greeting3)"
   ]
  },
  {
   "cell_type": "markdown",
   "metadata": {},
   "source": [
    "**注意**：位置參數必須出現在關鍵字參數之前，否則會出錯："
   ]
  },
  {
   "cell_type": "code",
   "execution_count": null,
   "metadata": {},
   "outputs": [],
   "source": [
    "# 錯誤示例：關鍵字參數在位置參數之前\n",
    "try:\n",
    "    greeting = greet_person(message=\"嗨\", \"小趙\")\n",
    "except Exception as e:\n",
    "    print(f\"錯誤：{e}\")"
   ]
  },
  {
   "cell_type": "markdown",
   "metadata": {},
   "source": [
    "## 3.3 默認參數\n",
    "\n",
    "默認參數允許在定義函數時為參數提供默認值，如果調用時未提供該參數，則使用默認值。"
   ]
  },
  {
   "cell_type": "code",
   "execution_count": null,
   "metadata": {},
   "outputs": [],
   "source": [
    "def greet_with_time(name, time_of_day=\"早上\"):\n",
    "    \"\"\"在指定的時間向人問候\"\"\"\n",
    "    return f\"{time_of_day}好，{name}！\"\n",
    "\n",
    "# 不提供第二個參數，使用默認值\n",
    "greeting1 = greet_with_time(\"張先生\")\n",
    "print(greeting1)\n",
    "\n",
    "# 提供第二個參數，覆蓋默認值\n",
    "greeting2 = greet_with_time(\"王小姐\", \"晚上\")\n",
    "print(greeting2)"
   ]
  },
  {
   "cell_type": "markdown",
   "metadata": {},
   "source": [
    "**注意**：默認參數必須放在非默認參數之後："
   ]
  },
  {
   "cell_type": "code",
   "execution_count": null,
   "metadata": {},
   "outputs": [],
   "source": [
    "# 正確：默認參數在後\n",
    "def func1(a, b=10):\n",
    "    return a + b\n",
    "\n",
    "# 錯誤：默認參數在前\n",
    "try:\n",
    "    def func2(a=10, b):\n",
    "        return a + b\n",
    "except Exception as e:\n",
    "    print(f\"錯誤：{e}\")"
   ]
  },
  {
   "cell_type": "markdown",
   "metadata": {},
   "source": [
    "### 默認參數的陷阱\n",
    "\n",
    "使用可變對象（如列表、字典）作為默認參數值時需要小心，因為默認值只在函數定義時創建一次，而不是在每次調用時創建。"
   ]
  },
  {
   "cell_type": "code",
   "execution_count": null,
   "metadata": {},
   "outputs": [],
   "source": [
    "# 默認參數陷阱示例\n",
    "def add_item(item, my_list=[]):\n",
    "    \"\"\"向列表中添加一個項目並返回該列表\"\"\"\n",
    "    my_list.append(item)\n",
    "    return my_list\n",
    "\n",
    "# 第一次調用\n",
    "result1 = add_item(1)\n",
    "print(f\"第一次調用: {result1}\")\n",
    "\n",
    "# 第二次調用 (沒有提供 my_list 參數)\n",
    "result2 = add_item(2)\n",
    "print(f\"第二次調用: {result2}\")\n",
    "\n",
    "# 第三次調用 (明確提供新列表)\n",
    "result3 = add_item(3, [])\n",
    "print(f\"第三次調用: {result3}\")"
   ]
  },
  {
   "cell_type": "markdown",
   "metadata": {},
   "source": [
    "**更安全的做法**是使用 `None` 作為默認值，然後在函數內檢查並初始化："
   ]
  },
  {
   "cell_type": "code",
   "execution_count": null,
   "metadata": {},
   "outputs": [],
   "source": [
    "# 更安全的寫法\n",
    "def add_item_safe(item, my_list=None):\n",
    "    \"\"\"向列表中添加一個項目並返回該列表\"\"\"\n",
    "    if my_list is None:\n",
    "        my_list = []\n",
    "    my_list.append(item)\n",
    "    return my_list\n",
    "\n",
    "# 多次調用\n",
    "result1 = add_item_safe(1)\n",
    "print(f\"第一次調用: {result1}\")\n",
    "\n",
    "result2 = add_item_safe(2)\n",
    "print(f\"第二次調用: {result2}\")\n",
    "\n",
    "# 使用已存在的列表\n",
    "my_existing_list = [10, 20]\n",
    "result3 = add_item_safe(30, my_existing_list)\n",
    "print(f\"使用已存在列表: {result3}\")"
   ]
  },
  {
   "cell_type": "markdown",
   "metadata": {},
   "source": [
    "## 3.4 不定長參數\n",
    "\n",
    "Python 允許函數接收可變數量的參數，有兩種方式：\n",
    "\n",
    "1. `*args`: 收集任意數量的位置參數\n",
    "2. `**kwargs`: 收集任意數量的關鍵字參數"
   ]
  },
  {
   "cell_type": "markdown",
   "metadata": {},
   "source": [
    "### 3.4.1 `*args`（收集位置參數）"
   ]
  },
  {
   "cell_type": "code",
   "execution_count": null,
   "metadata": {},
   "outputs": [],
   "source": [
    "def sum_all(*numbers):\n",
    "    \"\"\"計算所有參數的總和\"\"\"\n",
    "    total = 0\n",
    "    for num in numbers:\n",
    "        total += num\n",
    "    return total\n",
    "\n",
    "# 調用帶有不同數量參數的函數\n",
    "result1 = sum_all(1, 2)\n",
    "result2 = sum_all(1, 2, 3, 4, 5)\n",
    "result3 = sum_all()\n",
    "\n",
    "print(f\"1 + 2 = {result1}\")\n",
    "print(f\"1 + 2 + 3 + 4 + 5 = {result2}\")\n",
    "print(f\"無參數總和: {result3}\")"
   ]
  },
  {
   "cell_type": "markdown",
   "metadata": {},
   "source": [
    "### 3.4.2 `**kwargs`（收集關鍵字參數）"
   ]
  },
  {
   "cell_type": "code",
   "execution_count": null,
   "metadata": {},
   "outputs": [],
   "source": [
    "def print_person_info(**info):\n",
    "    \"\"\"打印人的各種信息\"\"\"\n",
    "    print(\"個人信息:\")\n",
    "    for key, value in info.items():\n",
    "        print(f\"  {key}: {value}\")\n",
    "\n",
    "# 使用不同的關鍵字參數調用\n",
    "print_person_info(name=\"張三\", age=30, city=\"台北\")\n",
    "print(\"\\n另一個人:\")\n",
    "print_person_info(name=\"李四\", age=25, job=\"工程師\", hobby=\"攝影\")"
   ]
  },
  {
   "cell_type": "markdown",
   "metadata": {},
   "source": [
    "## 3.5 組合使用不同類型的參數\n",
    "\n",
    "在定義函數時，參數的順序必須是：\n",
    "1. 必要參數（位置參數）\n",
    "2. 默認參數\n",
    "3. `*args`\n",
    "4. `**kwargs`"
   ]
  },
  {
   "cell_type": "code",
   "execution_count": null,
   "metadata": {},
   "outputs": [],
   "source": [
    "def complex_function(name, age=25, *args, **kwargs):\n",
    "    \"\"\"展示不同類型參數的組合使用\"\"\"\n",
    "    print(f\"姓名: {name}\")\n",
    "    print(f\"年齡: {age}\")\n",
    "    \n",
    "    if args:  # 如果有可變位置參數\n",
    "        print(\"其他信息:\")\n",
    "        for arg in args:\n",
    "            print(f\"  - {arg}\")\n",
    "    \n",
    "    if kwargs:  # 如果有可變關鍵字參數\n",
    "        print(\"附加信息:\")\n",
    "        for key, value in kwargs.items():\n",
    "            print(f\"  {key}: {value}\")\n",
    "\n",
    "# 調用函數展示不同參數\n",
    "complex_function(\n",
    "    \"王五\",           # 必要參數\n",
    "    28,               # 覆蓋默認參數\n",
    "    \"工程師\",         # *args\n",
    "    \"網球愛好者\",      # *args\n",
    "    city=\"高雄\",      # **kwargs\n",
    "    married=True      # **kwargs\n",
    ")"
   ]
  },
  {
   "cell_type": "markdown",
   "metadata": {},
   "source": [
    "## 3.6 參數解包\n",
    "\n",
    "Python 允許將列表或元組解包為位置參數，將字典解包為關鍵字參數。"
   ]
  },
  {
   "cell_type": "code",
   "execution_count": null,
   "metadata": {},
   "outputs": [],
   "source": [
    "def calculate_rectangle(length, width):\n",
    "    \"\"\"計算矩形的面積和周長\"\"\"\n",
    "    area = length * width\n",
    "    perimeter = 2 * (length + width)\n",
    "    return area, perimeter\n",
    "\n",
    "# 準備參數\n",
    "rectangle_dim = (5, 3)  # 長度和寬度的元組\n",
    "\n",
    "# 使用 * 解包元組作為位置參數\n",
    "area, perimeter = calculate_rectangle(*rectangle_dim)\n",
    "print(f\"矩形面積: {area}, 周長: {perimeter}\")\n",
    "\n",
    "# 準備關鍵字參數\n",
    "person_info = {\n",
    "    \"name\": \"趙六\",\n",
    "    \"age\": 35,\n",
    "    \"city\": \"台中\"\n",
    "}\n",
    "\n",
    "# 使用 ** 解包字典作為關鍵字參數\n",
    "print(\"\\n個人信息:\")\n",
    "print_person_info(**person_info)"
   ]
  },
  {
   "cell_type": "markdown",
   "metadata": {},
   "source": [
    "## 3.7 參數的傳遞機制\n",
    "\n",
    "理解 Python 中參數的傳遞機制非常重要。Python 使用**按值傳遞**的方式，但值實際上是對象的引用。\n",
    "\n",
    "需要了解的重要概念：\n",
    "- 不可變對象（如數字、字符串、元組）在函數內的修改不會影響原始變數\n",
    "- 可變對象（如列表、字典、集合）在函數內的修改會影響原始變數"
   ]
  },
  {
   "cell_type": "code",
   "execution_count": null,
   "metadata": {},
   "outputs": [],
   "source": [
    "# 不可變對象作為參數\n",
    "def modify_number(x):\n",
    "    \"\"\"嘗試修改數字\"\"\"\n",
    "    print(f\"函數內 x 的初始值: {x}\")\n",
    "    x = x + 1  # 創建新對象並重新賦值\n",
    "    print(f\"函數內 x 的修改後值: {x}\")\n",
    "\n",
    "num = 10\n",
    "print(f\"調用前 num 的值: {num}\")\n",
    "modify_number(num)\n",
    "print(f\"調用後 num 的值: {num}\")"
   ]
  },
  {
   "cell_type": "code",
   "execution_count": null,
   "metadata": {},
   "outputs": [],
   "source": [
    "# 可變對象作為參數\n",
    "def modify_list(lst):\n",
    "    \"\"\"修改列表\"\"\"\n",
    "    print(f\"函數內 lst 的初始值: {lst}\")\n",
    "    lst.append(4)  # 修改原對象\n",
    "    print(f\"函數內 lst 的修改後值: {lst}\")\n",
    "\n",
    "my_list = [1, 2, 3]\n",
    "print(f\"調用前 my_list: {my_list}\")\n",
    "modify_list(my_list)\n",
    "print(f\"調用後 my_list: {my_list}\")"
   ]
  },
  {
   "cell_type": "markdown",
   "metadata": {},
   "source": [
    "如果不希望函數修改原始可變對象，可以在函數內使用切片或拷貝："
   ]
  },
  {
   "cell_type": "code",
   "execution_count": null,
   "metadata": {},
   "outputs": [],
   "source": [
    "def safe_modify_list(lst):\n",
    "    \"\"\"安全地修改列表副本\"\"\"\n",
    "    new_lst = lst.copy()  # 創建副本\n",
    "    new_lst.append(4)\n",
    "    return new_lst\n",
    "\n",
    "original_list = [1, 2, 3]\n",
    "print(f\"調用前的列表: {original_list}\")\n",
    "\n",
    "modified_list = safe_modify_list(original_list)\n",
    "print(f\"返回的修改後列表: {modified_list}\")\n",
    "print(f\"原列表保持不變: {original_list}\")"
   ]
  },
  {
   "cell_type": "markdown",
   "metadata": {},
   "source": [
    "## 3.8 練習：靈活使用參數\n",
    "\n",
    "創建一個函數 `format_address`，使用不同類型的參數，根據提供的信息返回格式化的地址字符串。"
   ]
  },
  {
   "cell_type": "code",
   "execution_count": null,
   "metadata": {},
   "outputs": [],
   "source": [
    "# 練習解答\n",
    "def format_address(street, city, country=\"台灣\", *additional_info, **details):\n",
    "    \"\"\"根據提供的信息返回格式化的地址字符串\n",
    "    \n",
    "    參數:\n",
    "        street (str): 街道地址\n",
    "        city (str): 城市\n",
    "        country (str, optional): 國家，默認為台灣\n",
    "        *additional_info: 地址的其他信息 (樓層、单元等)\n",
    "        **details: 詳細信息 (郵編、收件人等)\n",
    "        \n",
    "    返回:\n",
    "        str: 格式化後的地址\n",
    "    \"\"\"\n",
    "    # 基本地址\n",
    "    address = f\"{street}, {city}, {country}\"\n",
    "    \n",
    "    # 添加額外信息\n",
    "    if additional_info:\n",
    "        address += \"\\n\" + \"\\n\".join(additional_info)\n",
    "    \n",
    "    # 添加詳細信息\n",
    "    if details:\n",
    "        address += \"\\n\" + \"\\n\".join(f\"{key}: {value}\" for key, value in details.items())\n",
    "    \n",
    "    return address\n",
    "\n",
    "# 測試函數\n",
    "# 基本用法\n",
    "address1 = format_address(\"信義路五段1號\", \"台北市\")\n",
    "print(\"地址1:\\n\", address1)\n",
    "print(\"\\n\" + \"-\"*30 + \"\\n\")\n",
    "\n",
    "# 使用默認參數和額外參數\n",
    "address2 = format_address(\n",
    "    \"中山路100號\",           # 必要參數\n",
    "    \"高雄市\",                # 必要參數\n",
    "    \"台灣\",                  # 默認參數\n",
    "    \"10樓\",                  # *args\n",
    "    \"B單元\",                 # *args\n",
    "    郵編=\"80700\",            # **kwargs\n",
    "    收件人=\"王小明\"           # **kwargs\n",
    ")\n",
    "print(\"地址2:\\n\", address2)"
   ]
  },
  {
   "cell_type": "markdown",
   "metadata": {},
   "source": [
    "## 3.9 僅接受位置參數和僅接受關鍵字參數（Python 3.8+）\n",
    "\n",
    "在 Python 3.8 及以後版本中，可以使用特殊語法指定某些參數只能通過位置傳遞或只能通過關鍵字傳遞。"
   ]
  },
  {
   "cell_type": "code",
   "execution_count": null,
   "metadata": {},
   "outputs": [],
   "source": [
    "# 使用 / 和 * 指定參數傳遞方式\n",
    "def special_params(pos1, pos2, /, pos_or_kwd, *, kwd1, kwd2):\n",
    "    \"\"\"展示特殊參數語法\n",
    "    \n",
    "    參數:\n",
    "        pos1, pos2: 僅位置參數\n",
    "        pos_or_kwd: 位置或關鍵字參數\n",
    "        kwd1, kwd2: 僅關鍵字參數\n",
    "    \"\"\"\n",
    "    print(f\"pos1 = {pos1}\")\n",
    "    print(f\"pos2 = {pos2}\")\n",
    "    print(f\"pos_or_kwd = {pos_or_kwd}\")\n",
    "    print(f\"kwd1 = {kwd1}\")\n",
    "    print(f\"kwd2 = {kwd2}\")\n",
    "\n",
    "# 正確調用方式\n",
    "special_params(1, 2, 3, kwd1=4, kwd2=5)\n",
    "print(\"\\n\" + \"-\"*30 + \"\\n\")\n",
    "special_params(1, 2, pos_or_kwd=3, kwd1=4, kwd2=5)"
   ]
  },
  {
   "cell_type": "code",
   "execution_count": null,
   "metadata": {},
   "outputs": [],
   "source": [
    "# 錯誤調用方式示例\n",
    "try:\n",
    "    # 錯誤：pos1 不能使用關鍵字傳遞\n",
    "    special_params(pos1=1, pos2=2, pos_or_kwd=3, kwd1=4, kwd2=5)\n",
    "except Exception as e:\n",
    "    print(f\"錯誤1：{e}\")\n",
    "    \n",
    "try:\n",
    "    # 錯誤：kwd1 不能使用位置傳遞\n",
    "    special_params(1, 2, 3, 4, 5)\n",
    "except Exception as e:\n",
    "    print(f\"錯誤2：{e}\")"
   ]
  },
  {
   "cell_type": "markdown",
   "metadata": {},
   "source": [
    "## 3.10 常見的參數設計模式\n",
    "\n",
    "以下是一些常見的函數參數設計模式："
   ]
  },
  {
   "cell_type": "code",
   "execution_count": null,
   "metadata": {},
   "outputs": [],
   "source": [
    "# 1. 設置模式\n",
    "def create_profile(name, age, bio=None, active=True):\n",
    "    \"\"\"創建用戶資料\"\"\"\n",
    "    profile = {\n",
    "        \"name\": name,\n",
    "        \"age\": age,\n",
    "        \"active\": active\n",
    "    }\n",
    "    if bio:\n",
    "        profile[\"bio\"] = bio\n",
    "    return profile\n",
    "\n",
    "# 使用設置模式\n",
    "profile1 = create_profile(\"張三\", 30)\n",
    "profile2 = create_profile(\"李四\", 25, \"Python愛好者\", False)\n",
    "print(f\"資料1: {profile1}\")\n",
    "print(f\"資料2: {profile2}\")"
   ]
  },
  {
   "cell_type": "code",
   "execution_count": null,
   "metadata": {},
   "outputs": [],
   "source": [
    "# 2. 配置模式\n",
    "def connect_database(host=\"localhost\", port=3306, user=\"root\", password=\"\", **options):\n",
    "    \"\"\"連接到數據庫\"\"\"\n",
    "    config = {\n",
    "        \"host\": host,\n",
    "        \"port\": port,\n",
    "        \"user\": user,\n",
    "        \"password\": password,\n",
    "        **options\n",
    "    }\n",
    "    print(f\"連接到數據庫，配置: {config}\")\n",
    "    return config\n",
    "\n",
    "# 使用配置模式\n",
    "connect_database()\n",
    "connect_database(\"db.example.com\", password=\"secret\", db_name=\"users\", timeout=30)"
   ]
  },
  {
   "cell_type": "code",
   "execution_count": null,
   "metadata": {},
   "outputs": [],
   "source": [
    "# 3. 混合模式\n",
    "def process_data(data, operation, *transformations, verbose=False, **settings):\n",
    "    \"\"\"處理數據\"\"\"\n",
    "    if verbose:\n",
    "        print(f\"數據: {data}\")\n",
    "        print(f\"操作: {operation}\")\n",
    "        print(f\"轉換: {transformations}\")\n",
    "        print(f\"設置: {settings}\")\n",
    "    \n",
    "    # 處理邏輯...\n",
    "    result = data\n",
    "    \n",
    "    # 應用操作\n",
    "    if operation == \"sum\":\n",
    "        result = sum(result)\n",
    "    elif operation == \"average\":\n",
    "        result = sum(result) / len(result)\n",
    "    \n",
    "    # 應用轉換\n",
    "    for transform in transformations:\n",
    "        if transform == \"double\":\n",
    "            result *= 2\n",
    "        elif transform == \"square\":\n",
    "            result = result ** 2\n",
    "    \n",
    "    return result\n",
    "\n",
    "# 使用混合模式\n",
    "data = [1, 2, 3, 4, 5]\n",
    "result = process_data(data, \"average\", \"double\", verbose=True, max_retry=3)\n",
    "print(f\"結果: {result}\")"
   ]
  },
  {
   "cell_type": "markdown",
   "metadata": {},
   "source": [
    "## 小結\n",
    "\n",
    "在本節中，我們學習了 Python 函數的參數類型和傳遞機制：\n",
    "\n",
    "- 必要參數（位置參數）\n",
    "- 關鍵字參數\n",
    "- 默認參數\n",
    "- 不定長參數 (`*args` 和 `**kwargs`)\n",
    "- 參數解包\n",
    "- 參數傳遞機制\n",
    "- 僅位置參數和僅關鍵字參數\n",
    "- 常見參數設計模式\n",
    "\n",
    "了解這些概念可以讓我們設計出更靈活、更強大的函數。在下一節中，我們將詳細探討函數的返回值。"
   ]
  }
 ],
 "metadata": {
  "kernelspec": {
   "display_name": "Python 3",
   "language": "python",
   "name": "python3"
  },
  "language_info": {
   "codemirror_mode": {
    "name": "ipython",
    "version": 3
   },
   "file_extension": ".py",
   "mimetype": "text/x-python",
   "name": "python",
   "nbconvert_exporter": "python",
   "pygments_lexer": "ipython3",
   "version": "3.9.7"
  }
 },
 "nbformat": 4,
 "nbformat_minor": 4
}