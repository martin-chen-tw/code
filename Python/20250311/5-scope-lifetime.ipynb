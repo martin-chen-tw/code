{
 "cells": [
  {
   "cell_type": "markdown",
   "metadata": {},
   "source": [
    "# 5. 作用域與生命週期\n",
    "\n",
    "變數的**作用域**指的是變數在程式中可被訪問的範圍。了解作用域對於正確地使用函數和避免錯誤非常重要。"
   ]
  },
  {
   "cell_type": "markdown",
   "metadata": {},
   "source": [
    "## 5.1 變數作用域概念\n",
    "\n",
    "Python 中有四種作用域，按照搜索順序排列：\n",
    "\n",
    "1. **局部作用域(Local)**：函數內部定義的變數\n",
    "2. **嵌套作用域(Enclosing)**：外層函數定義的變數（用於嵌套函數）\n",
    "3. **全局作用域(Global)**：模組層級定義的變數\n",
    "4. **內建作用域(Built-in)**：Python 內建的名稱\n",
    "\n",
    "這種搜索順序也被稱為 LEGB 規則。"
   ]
  },
  {
   "cell_type": "code",
   "execution_count": null,
   "metadata": {},
   "outputs": [],
   "source": [
    "# 演示不同作用域\n",
    "x = 50  # 全局變數\n",
    "\n",
    "def function():\n",
    "    x = 10  # 局部變數，與全局變數同名但互不影響\n",
    "    print(f\"局部變數 x = {x}\")\n",
    "\n",
    "# 調用函數\n",
    "print(f\"全局變數 x = {x}\")\n",
    "function()\n",
    "print(f\"調用函數後，全局變數仍然是 x = {x}\")"
   ]
  },
  {
   "cell_type": "markdown",
   "metadata": {},
   "source": [
    "## 5.2 局部變數與全局變數\n",
    "\n",
    "### 5.2.1 局部變數\n",
    "\n",
    "局部變數是在函數內部定義的變數，只能在該函數內部訪問。函數執行完成後，這些變數就會被銷毀。"
   ]
  },
  {
   "cell_type": "code",
   "execution_count": null,
   "metadata": {},
   "outputs": [],
   "source": [
    "def calculate_area(radius):\n",
    "    pi = 3.14159  # 局部變數\n",
    "    area = pi * radius ** 2  # 局部變數\n",
    "    return area\n",
    "\n",
    "# 調用函數\n",
    "circle_area = calculate_area(5)\n",
    "print(f\"圓的面積: {circle_area}\")\n",
    "\n",
    "# 嘗試訪問局部變數\n",
    "try:\n",
    "    print(f\"pi = {pi}\")  # 這會引發錯誤，因為 pi 是局部變數\n",
    "except NameError as e:\n",
    "    print(f\"錯誤: {e}\")"
   ]
  },
  {
   "cell_type": "markdown",
   "metadata": {},
   "source": [
    "### 5.2.2 全局變數\n",
    "\n",
    "全局變數是在函數外部定義的變數，可以在整個程式中訪問。"
   ]
  },
  {
   "cell_type": "code",
   "execution_count": null,
   "metadata": {},
   "outputs": [],
   "source": [
    "# 全局變數\n",
    "pi = 3.14159\n",
    "message = \"全局訊息\"\n",
    "\n",
    "def print_message():\n",
    "    # 訪問全局變數\n",
    "    print(f\"在函數中訪問全局變數: {message}\")\n",
    "    print(f\"在函數中使用全局 pi: {pi}\")\n",
    "\n",
    "def create_local_message():\n",
    "    # 創建同名的局部變數\n",
    "    message = \"局部訊息\"  # 這個 message 是局部變數，與全局變數不同\n",
    "    print(f\"局部變數 message: {message}\")\n",
    "\n",
    "# 調用函數\n",
    "print(f\"全局變數 message: {message}\")\n",
    "print_message()\n",
    "create_local_message()\n",
    "print(f\"全局變數仍然是: {message}\")"
   ]
  },
  {
   "cell_type": "markdown",
   "metadata": {},
   "source": [
    "### 5.2.3 使用 global 關鍵字\n",
    "\n",
    "如果要在函數內部修改全局變數，需要使用 `global` 關鍵字。"
   ]
  },
  {
   "cell_type": "code",
   "execution_count": null,
   "metadata": {},
   "outputs": [],
   "source": [
    "# 全局變數\n",
    "counter = 0\n",
    "\n",
    "def increment():\n",
    "    # 嘗試直接修改全局變數 (錯誤方式)\n",
    "    counter = counter + 1  # 這會引發錯誤\n",
    "    return counter\n",
    "\n",
    "# 嘗試調用函數\n",
    "try:\n",
    "    result = increment()\n",
    "except UnboundLocalError as e:\n",
    "    print(f\"錯誤: {e}\")"
   ]
  },
  {
   "cell_type": "code",
   "execution_count": null,
   "metadata": {},
   "outputs": [],
   "source": [
    "# 全局變數\n",
    "counter = 0\n",
    "\n",
    "def increment_correct():\n",
    "    # 使用 global 關鍵字修改全局變數\n",
    "    global counter\n",
    "    counter = counter + 1\n",
    "    return counter\n",
    "\n",
    "# 調用函數\n",
    "print(f\"初始 counter: {counter}\")\n",
    "result = increment_correct()\n",
    "print(f\"函數返回值: {result}\")\n",
    "print(f\"全局 counter 現在是: {counter}\")"
   ]
  },
  {
   "cell_type": "markdown",
   "metadata": {},
   "source": [
    "### 5.2.4 全局變數使用的最佳實踐\n",
    "\n",
    "雖然可以使用全局變數，但在一般情況下，更推薦通過函數參數和返回值傳遞數據，而不是依賴全局變數。"
   ]
  },
  {
   "cell_type": "code",
   "execution_count": null,
   "metadata": {},
   "outputs": [],
   "source": [
    "# 不好的做法：使用全局變數\n",
    "total = 0\n",
    "\n",
    "def add_to_total(value):\n",
    "    global total\n",
    "    total += value\n",
    "\n",
    "# 更好的做法：使用參數和返回值\n",
    "def add_value(current_total, value):\n",
    "    return current_total + value\n",
    "\n",
    "# 使用全局變數\n",
    "add_to_total(5)\n",
    "add_to_total(10)\n",
    "print(f\"使用全局變數的總和: {total}\")\n",
    "\n",
    "# 使用返回值\n",
    "result = 0\n",
    "result = add_value(result, 5)\n",
    "result = add_value(result, 10)\n",
    "print(f\"使用返回值的總和: {result}\")"
   ]
  },
  {
   "cell_type": "markdown",
   "metadata": {},
   "source": [
    "## 5.3 嵌套函數與 nonlocal 關鍵字\n",
    "\n",
    "在 Python 中，我們可以在函數內部定義另一個函數，這被稱為嵌套函數。內部函數可以訪問外部函數的變數，但不能直接修改它們。如果需要修改，可以使用 `nonlocal` 關鍵字。"
   ]
  },
  {
   "cell_type": "code",
   "execution_count": null,
   "metadata": {},
   "outputs": [],
   "source": [
    "def outer_function():\n",
    "    count = 0  # 外部函數的變數\n",
    "    \n",
    "    def inner_function1():\n",
    "        # 訪問外部函數的變數\n",
    "        print(f\"inner_function1 中的 count: {count}\")\n",
    "    \n",
    "    def inner_function2():\n",
    "        count = 100  # 創建局部變數，不影響外部\n",
    "        print(f\"inner_function2 中的局部 count: {count}\")\n",
    "    \n",
    "    def inner_function3():\n",
    "        nonlocal count  # 聲明使用外部函數的變數\n",
    "        count += 1  # 修改外部函數的變數\n",
    "        print(f\"inner_function3 修改後的 count: {count}\")\n",
    "    \n",
    "    print(f\"初始 count: {count}\")\n",
    "    inner_function1()\n",
    "    inner_function2()\n",
    "    print(f\"inner_function2 後的 count: {count}\")\n",
    "    inner_function3()\n",
    "    print(f\"inner_function3 後的 count: {count}\")\n",
    "\n",
    "# 調用外部函數\n",
    "outer_function()"
   ]
  },
  {
   "cell_type": "markdown",
   "metadata": {},
   "source": [
    "## 5.4 閉包 (Closure)\n",
    "\n",
    "閉包是一個函數對象，它記住了外部作用域中的值，即使外部作用域已經結束。閉包是實現高級功能如裝飾器和函數工廠的基礎。"
   ]
  },
  {
   "cell_type": "code",
   "execution_count": null,
   "metadata": {},
   "outputs": [],
   "source": [
    "def create_counter():\n",
    "    \"\"\"創建一個計數器函數\"\"\"\n",
    "    count = 0\n",
    "    \n",
    "    def counter():\n",
    "        nonlocal count\n",
    "        count += 1\n",
    "        return count\n",
    "    \n",
    "    return counter  # 返回內部函數\n",
    "\n",
    "# 創建兩個計數器\n",
    "counter1 = create_counter()\n",
    "counter2 = create_counter()\n",
    "\n",
    "# 使用計數器\n",
    "print(f\"counter1: {counter1()}\")\n",
    "print(f\"counter1: {counter1()}\")\n",
    "print(f\"counter1: {counter1()}\")\n",
    "\n",
    "print(f\"counter2: {counter2()}\")\n",
    "print(f\"counter2: {counter2()}\")\n",
    "\n",
    "print(f\"counter1 再次調用: {counter1()}\")"
   ]
  },
  {
   "cell_type": "markdown",
   "metadata": {},
   "source": [
    "### 閉包的實用例子：記憶函數\n",
    "\n",
    "閉包可以用來實現記憶化（保存之前計算的結果），以提高性能。"
   ]
  },
  {
   "cell_type": "code",
   "execution_count": null,
   "metadata": {},
   "outputs": [],
   "source": [
    "def create_memoized_function(func):\n",
    "    \"\"\"創建一個記憶化版本的函數\"\"\"\n",
    "    cache = {}  # 用於儲存已計算的結果\n",
    "    \n",
    "    def memoized_func(n):\n",
    "        if n not in cache:\n",
    "            cache[n] = func(n)  # 計算並儲存結果\n",
    "            print(f\"計算 f({n})\")\n",
    "        else:\n",
    "            print(f\"從快取獲取 f({n})\")\n",
    "        return cache[n]\n",
    "    \n",
    "    return memoized_func\n",
    "\n",
    "# 定義要記憶化的函數\n",
    "def factorial(n):\n",
    "    \"\"\"計算階乘\"\"\"\n",
    "    if n <= 1:\n",
    "        return 1\n",
    "    return n * factorial(n - 1)\n",
    "\n",
    "# 創建記憶化版本\n",
    "memoized_factorial = create_memoized_function(factorial)\n",
    "\n",
    "# 使用記憶化函數\n",
    "print(f\"5! = {memoized_factorial(5)}\")\n",
    "print(f\"3! = {memoized_factorial(3)}\")\n",
    "print(f\"5! (再次計算) = {memoized_factorial(5)}\")"
   ]
  },
  {
   "cell_type": "markdown",
   "metadata": {},
   "source": [
    "## 5.5 函數對象與生命週期\n",
    "\n",
    "在 Python 中，函數是第一類對象，這意味著：\n",
    "- 函數可以被賦值給變數\n",
    "- 函數可以作為參數傳遞\n",
    "- 函數可以作為返回值\n",
    "- 函數可以被存儲在數據結構中"
   ]
  },
  {
   "cell_type": "code",
   "execution_count": null,
   "metadata": {},
   "outputs": [],
   "source": [
    "# 函數作為變數\n",
    "def add(a, b):\n",
    "    return a + b\n",
    "\n",
    "def multiply(a, b):\n",
    "    return a * b\n",
    "\n",
    "# 將函數賦值給變數\n",
    "operation = add\n",
    "print(f\"3 + 5 = {operation(3, 5)}\")\n",
    "\n",
    "# 更改變數引用的函數\n",
    "operation = multiply\n",
    "print(f\"3 * 5 = {operation(3, 5)}\")"
   ]
  },
  {
   "cell_type": "code",
   "execution_count": null,
   "metadata": {},
   "outputs": [],
   "source": [
    "# 函數作為參數\n",
    "def apply(func, a, b):\n",
    "    \"\"\"對兩個數應用函數\"\"\"\n",
    "    return func(a, b)\n",
    "\n",
    "# 使用 apply 函數調用不同的操作\n",
    "print(f\"add(4, 6) = {apply(add, 4, 6)}\")\n",
    "print(f\"multiply(4, 6) = {apply(multiply, 4, 6)}\")"
   ]
  },
  {
   "cell_type": "code",
   "execution_count": null,
   "metadata": {},
   "outputs": [],
   "source": [
    "# 存儲函數在數據結構中\n",
    "operations = {\n",
    "    \"add\": add,\n",
    "    \"multiply\": multiply,\n",
    "    \"subtract\": lambda a, b: a - b,\n",
    "    \"divide\": lambda a, b: a / b if b != 0 else \"錯誤：除以零\"\n",
    "}\n",
    "\n",
    "# 使用字典中的函數\n",
    "a, b = 10, 5\n",
    "for op_name, op_func in operations.items():\n",
    "    result = op_func(a, b)\n",
    "    print(f\"{op_name}({a}, {b}) = {result}\")"
   ]
  },
  {
   "cell_type": "markdown",
   "metadata": {},
   "source": [
    "## 5.6 模組作用域與 `__name__`\n",
    "\n",
    "每個 Python 模組（文件）都有自己的全局作用域。模組中定義的變數和函數可以被導入到其他模組中使用。\n",
    "\n",
    "特殊變數 `__name__` 可以讓我們分辨代碼是被直接運行還是被導入的，這對於建立可重用的模組非常有用。"
   ]
  },
  {
   "cell_type": "code",
   "execution_count": null,
   "metadata": {},
   "outputs": [],
   "source": [
    "# 檢查 __name__ 變數的值\n",
    "print(f\"當前 __name__ 的值: {__name__}\")\n",
    "\n",
    "# 模擬模組文件中常見的模式\n",
    "def main():\n",
    "    \"\"\"模組的主函數\"\"\"\n",
    "    print(\"執行主函數...\")\n",
    "    # ... 主要的程式邏輯 ...\n",
    "\n",
    "# 只有當文件被直接運行時才執行 main()\n",
    "if __name__ == \"__main__\":\n",
    "    print(\"這個程式被直接執行\")\n",
    "    main()\n",
    "else:\n",
    "    print(\"這個程式被導入為模組\")"
   ]
  },
  {
   "cell_type": "markdown",
   "metadata": {},
   "source": [
    "## 5.7 作用域調試與探索\n",
    "\n",
    "有時理解變數在不同作用域中的值可能很困難。Python 提供了多種工具來探索作用域。"
   ]
  },
  {
   "cell_type": "code",
   "execution_count": null,
   "metadata": {},
   "outputs": [],
   "source": [
    "# 使用 locals() 和 globals() 函數\n",
    "x = 10\n",
    "y = 20\n",
    "\n",
    "def scope_test():\n",
    "    z = 30\n",
    "    print(\"\\n局部變數:\")\n",
    "    for name, value in locals().items():\n",
    "        if not name.startswith('__'):\n",
    "            print(f\"  {name} = {value}\")\n",
    "    \n",
    "    print(\"\\n全局變數:\")\n",
    "    for name, value in globals().items():\n",
    "        if name in ['x', 'y']:\n",
    "            print(f\"  {name} = {value}\")\n",
    "\n",
    "# 調用函數\n",
    "scope_test()"
   ]
  },
  {
   "cell_type": "markdown",
   "metadata": {},
   "source": [
    "## 5.8 作用域與生命週期的最佳實踐\n",
    "\n",
    "以下是一些關於變數作用域和生命週期的最佳實踐建議："
   ]
  },
  {
   "cell_type": "markdown",
   "metadata": {},
   "source": [
    "### 1. 盡量避免使用全局變數\n",
    "\n",
    "全局變數使代碼更難理解、測試和維護。通常最好通過參數傳遞數據，通過返回值獲取結果。"
   ]
  },
  {
   "cell_type": "markdown",
   "metadata": {},
   "source": [
    "### 2. 使變數的生命週期盡可能短\n",
    "\n",
    "變數的生命週期越短，越容易理解和維護。盡量將變數定義在最需要它們的地方。"
   ]
  },
  {
   "cell_type": "markdown",
   "metadata": {},
   "source": [
    "### 3. 使用清晰的命名避免衝突\n",
    "\n",
    "在不同作用域中使用相同的變數名可能導致混淆。使用清晰、描述性的名稱可以避免這種問題。"
   ]
  },
  {
   "cell_type": "markdown",
   "metadata": {},
   "source": [
    "### 4. 謹慎使用閉包\n",
    "\n",
    "閉包是強大的功能，但也可能導致複雜和難以調試的代碼。只在必要時使用閉包，並確保閉包捕獲的變數是明確的。"
   ]
  },
  {
   "cell_type": "markdown",
   "metadata": {},
   "source": [
    "## 5.9 練習：作用域應用\n",
    "\n",
    "創建一個帶有記憶功能的計算機函數，它可以記住之前的計算結果，並提供一個重置記憶的方法。"
   ]
  },
  {
   "cell_type": "code",
   "execution_count": null,
   "metadata": {},
   "outputs": [],
   "source": [
    "# 練習解答\n",
    "def create_calculator():\n",
    "    \"\"\"創建一個有記憶功能的計算機\"\"\"\n",
    "    memory = 0  # 記憶的值\n",
    "    history = []  # 操作歷史\n",
    "    \n",
    "    def add(x):\n",
    "        nonlocal memory\n",
    "        memory += x\n",
    "        history.append(f\"加 {x}\")\n",
    "        return memory\n",
    "    \n",
    "    def subtract(x):\n",
    "        nonlocal memory\n",
    "        memory -= x\n",
    "        history.append(f\"減 {x}\")\n",
    "        return memory\n",
    "    \n",
    "    def multiply(x):\n",
    "        nonlocal memory\n",
    "        memory *= x\n",
    "        history.append(f\"乘 {x}\")\n",
    "        return memory\n",
    "    \n",
    "    def divide(x):\n",
    "        nonlocal memory\n",
    "        if x == 0:\n",
    "            history.append(\"嘗試除以零\")\n",
    "            return \"錯誤：除以零\"\n",
    "        memory /= x\n",
    "        history.append(f\"除以 {x}\")\n",
    "        return memory\n",
    "    \n",
    "    def get_memory():\n",
    "        return memory\n",
    "    \n",
    "    def reset():\n",
    "        nonlocal memory\n",
    "        old_memory = memory\n",
    "        memory = 0\n",
    "        history.append(\"重置\")\n",
    "        return old_memory\n",
    "    \n",
    "    def get_history():\n",
    "        return history\n",
    "    \n",
    "    # 返回可用的操作字典\n",
    "    return {\n",
    "        \"add\": add,\n",
    "        \"subtract\": subtract,\n",
    "        \"multiply\": multiply,\n",
    "        \"divide\": divide,\n",
    "        \"memory\": get_memory,\n",
    "        \"reset\": reset,\n",
    "        \"history\": get_history\n",
    "    }\n",
    "\n",
    "# 測試計算機\n",
    "calc = create_calculator()\n",
    "\n",
    "print(f\"初始值: {calc['memory']()}\")\n",
    "print(f\"加 5: {calc['add'](5)}\")\n",
    "print(f\"再加 3: {calc['add'](3)}\")\n",
    "print(f\"乘以 2: {calc['multiply'](2)}\")\n",
    "print(f\"除以 4: {calc['divide'](4)}\")\n",
    "print(f\"當前記憶值: {calc['memory']()}\")\n",
    "print(f\"操作歷史: {calc['history']()}\")\n",
    "print(f\"重置 (返回舊值): {calc['reset']()}\")\n",
    "print(f\"重置後記憶值: {calc['memory']()}\")"
   ]
  },
  {
   "cell_type": "markdown",
   "metadata": {},
   "source": [
    "## 小結\n",
    "\n",
    "在本節中，我們學習了 Python 的變數作用域和生命週期：\n",
    "\n",
    "- 變數作用域的四種類型：局部、嵌套、全局和內建\n",
    "- 局部變數和全局變數的區別與使用\n",
    "- `global` 和 `nonlocal` 關鍵字的作用\n",
    "- 閉包的概念和應用\n",
    "- 函數對象的生命週期\n",
    "- 模組作用域與 `__name__` 變數\n",
    "- 作用域的最佳實踐\n",
    "\n",
    "理解這些概念對於編寫高質量的 Python 代碼非常重要。在下一節中，我們將探討Lambda與遞迴函數的概念與應用。"
   ]
  }
 ],
 "metadata": {
  "kernelspec": {
   "display_name": "Python 3",
   "language": "python",
   "name": "python3"
  },
  "language_info": {
   "codemirror_mode": {
    "name": "ipython",
    "version": 3
   },
   "file_extension": ".py",
   "mimetype": "text/x-python",
   "name": "python",
   "nbconvert_exporter": "python",
   "pygments_lexer": "ipython3",
   "version": "3.9.7"
  }
 },
 "nbformat": 4,
 "nbformat_minor": 4
}