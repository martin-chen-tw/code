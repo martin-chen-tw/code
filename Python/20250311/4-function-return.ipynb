{
 "cells": [
  {
   "cell_type": "markdown",
   "metadata": {},
   "source": [
    "# 4. 函數返回值\n",
    "\n",
    "Python 函數的返回值是函數執行後返回給調用者的結果。函數可以返回單個值、多個值，或不返回任何值（隱式返回 `None`）。"
   ]
  },
  {
   "cell_type": "markdown",
   "metadata": {},
   "source": [
    "## 4.1 單一返回值\n",
    "\n",
    "最常見的情況是函數返回單一值："
   ]
  },
  {
   "cell_type": "code",
   "execution_count": null,
   "metadata": {},
   "outputs": [],
   "source": [
    "def square(number):\n",
    "    \"\"\"返回數字的平方\"\"\"\n",
    "    return number ** 2\n",
    "\n",
    "result = square(5)\n",
    "print(f\"5 的平方是: {result}\")"
   ]
  },
  {
   "cell_type": "code",
   "execution_count": null,
   "metadata": {},
   "outputs": [],
   "source": [
    "def is_adult(age):\n",
    "    \"\"\"檢查年齡是否達到成年\"\"\"\n",
    "    return age >= 18\n",
    "\n",
    "print(f\"16歲是成年? {is_adult(16)}\")\n",
    "print(f\"21歲是成年? {is_adult(21)}\")"
   ]
  },
  {
   "cell_type": "markdown",
   "metadata": {},
   "source": [
    "## 4.2 返回多個值\n",
    "\n",
    "Python 函數可以返回多個值，實際上是返回一個元組，然後通過解包獲取各個值。"
   ]
  },
  {
   "cell_type": "code",
   "execution_count": null,
   "metadata": {},
   "outputs": [],
   "source": [
    "def get_min_max(numbers):\n",
    "    \"\"\"返回列表中的最小值和最大值\"\"\"\n",
    "    return min(numbers), max(numbers)\n",
    "\n",
    "# 解包返回值到兩個變數\n",
    "minimum, maximum = get_min_max([5, 2, 8, 1, 9])\n",
    "print(f\"最小值: {minimum}\")\n",
    "print(f\"最大值: {maximum}\")"
   ]
  },
  {
   "cell_type": "code",
   "execution_count": null,
   "metadata": {},
   "outputs": [],
   "source": [
    "# 也可以不解包，直接獲取元組\n",
    "result = get_min_max([5, 2, 8, 1, 9])\n",
    "print(f\"結果元組: {result}\")\n",
    "print(f\"第一個值 (最小值): {result[0]}\")\n",
    "print(f\"第二個值 (最大值): {result[1]}\")"
   ]
  },
  {
   "cell_type": "code",
   "execution_count": null,
   "metadata": {},
   "outputs": [],
   "source": [
    "def get_name_parts(full_name):\n",
    "    \"\"\"將全名分割為姓和名\"\"\"\n",
    "    parts = full_name.split()\n",
    "    if len(parts) >= 2:\n",
    "        return parts[0], \" \".join(parts[1:])  # 返回多個值\n",
    "    else:\n",
    "        return parts[0], \"\"  # 只有名字的情況\n",
    "\n",
    "# 接收多個返回值\n",
    "first_name, last_name = get_name_parts(\"張 三豐\")\n",
    "print(f\"姓: {first_name}\")\n",
    "print(f\"名: {last_name}\")"
   ]
  },
  {
   "cell_type": "markdown",
   "metadata": {},
   "source": [
    "## 4.3 返回複雜數據結構\n",
    "\n",
    "函數可以返回更複雜的數據結構，例如列表、字典或自定義對象。"
   ]
  },
  {
   "cell_type": "code",
   "execution_count": null,
   "metadata": {},
   "outputs": [],
   "source": [
    "def analyze_numbers(numbers):\n",
    "    \"\"\"分析數字列表，返回包含各種統計信息的字典\"\"\"\n",
    "    if not numbers:\n",
    "        return {\"error\": \"空列表\"}\n",
    "    \n",
    "    # 計算各種統計值\n",
    "    return {\n",
    "        \"count\": len(numbers),\n",
    "        \"sum\": sum(numbers),\n",
    "        \"average\": sum(numbers) / len(numbers),\n",
    "        \"minimum\": min(numbers),\n",
    "        \"maximum\": max(numbers)\n",
    "    }\n",
    "\n",
    "# 分析數字列表\n",
    "stats = analyze_numbers([2, 4, 6, 8, 10])\n",
    "print(\"數字分析結果:\")\n",
    "for key, value in stats.items():\n",
    "    print(f\"  {key}: {value}\")\n",
    "\n",
    "# 處理空列表的情況\n",
    "empty_stats = analyze_numbers([])\n",
    "print(f\"\\n空列表分析結果: {empty_stats}\")"
   ]
  },
  {
   "cell_type": "code",
   "execution_count": null,
   "metadata": {},
   "outputs": [],
   "source": [
    "def create_student_record(name, scores):\n",
    "    \"\"\"創建學生成績記錄\"\"\"\n",
    "    return {\n",
    "        \"name\": name,\n",
    "        \"scores\": scores,\n",
    "        \"average\": sum(scores) / len(scores) if scores else 0,\n",
    "        \"passed\": all(score >= 60 for score in scores) if scores else False,\n",
    "        \"highest\": max(scores) if scores else None,\n",
    "        \"lowest\": min(scores) if scores else None\n",
    "    }\n",
    "\n",
    "# 創建學生記錄\n",
    "student = create_student_record(\"李明\", [85, 92, 78, 90, 88])\n",
    "print(\"學生記錄:\")\n",
    "for key, value in student.items():\n",
    "    print(f\"  {key}: {value}\")"
   ]
  },
  {
   "cell_type": "markdown",
   "metadata": {},
   "source": [
    "## 4.4 無返回值或返回 None\n",
    "\n",
    "如果函數沒有 `return` 語句或使用了沒有值的 `return`，則返回 `None`。"
   ]
  },
  {
   "cell_type": "code",
   "execution_count": null,
   "metadata": {},
   "outputs": [],
   "source": [
    "# 無返回值函數\n",
    "def log_message(message):\n",
    "    \"\"\"打印日誌消息\"\"\"\n",
    "    print(f\"[INFO] {message}\")\n",
    "    # 沒有 return 語句\n",
    "\n",
    "# 調用無返回值函數\n",
    "result = log_message(\"系統啟動\")\n",
    "print(f\"log_message 的返回值: {result}\")"
   ]
  },
  {
   "cell_type": "code",
   "execution_count": null,
   "metadata": {},
   "outputs": [],
   "source": [
    "# 顯式返回 None\n",
    "def process_data(data):\n",
    "    \"\"\"處理數據，成功時返回 None\"\"\"\n",
    "    if not data:\n",
    "        print(\"無數據可處理\")\n",
    "        return False  # 失敗返回 False\n",
    "    \n",
    "    print(f\"處理了 {len(data)} 個數據項\")\n",
    "    return  # 顯式返回 None\n",
    "\n",
    "# 測試函數\n",
    "result1 = process_data([1, 2, 3])\n",
    "print(f\"處理數據的返回值: {result1}\")\n",
    "\n",
    "result2 = process_data([])\n",
    "print(f\"處理空數據的返回值: {result2}\")"
   ]
  },
  {
   "cell_type": "markdown",
   "metadata": {},
   "source": [
    "## 4.5 提前返回（Early Return）\n",
    "\n",
    "函數可以在不同的點使用 `return` 語句提前結束執行並返回值。這對於處理錯誤情況或特殊情況特別有用。"
   ]
  },
  {
   "cell_type": "code",
   "execution_count": null,
   "metadata": {},
   "outputs": [],
   "source": [
    "def divide_safe(a, b):\n",
    "    \"\"\"安全地執行除法運算\"\"\"\n",
    "    # 早期返回避免除以零\n",
    "    if b == 0:\n",
    "        print(\"錯誤：除數不能為零\")\n",
    "        return None\n",
    "    \n",
    "    # 只有在 b 不為零的情況下才會執行\n",
    "    return a / b\n",
    "\n",
    "# 測試函數\n",
    "result1 = divide_safe(10, 2)\n",
    "print(f\"10 / 2 = {result1}\")\n",
    "\n",
    "result2 = divide_safe(5, 0)\n",
    "if result2 is not None:\n",
    "    print(f\"5 / 0 = {result2}\")\n",
    "else:\n",
    "    print(\"除法操作失敗\")"
   ]
  },
  {
   "cell_type": "code",
   "execution_count": null,
   "metadata": {},
   "outputs": [],
   "source": [
    "def get_discount(price, customer_type):\n",
    "    \"\"\"根據客戶類型返回折扣\"\"\"\n",
    "    if price < 0:\n",
    "        return 0  # 提前返回，價格不能為負\n",
    "        \n",
    "    if customer_type == \"vip\":\n",
    "        return 0.2  # VIP 客戶 20% 折扣\n",
    "    elif customer_type == \"regular\":\n",
    "        return 0.1  # 常客 10% 折扣\n",
    "    else:\n",
    "        return 0.05  # 其他客戶 5% 折扣\n",
    "\n",
    "# 測試函數\n",
    "print(f\"VIP客戶折扣: {get_discount(100, 'vip')}\")\n",
    "print(f\"常客折扣: {get_discount(100, 'regular')}\")\n",
    "print(f\"新客戶折扣: {get_discount(100, 'new')}\")\n",
    "print(f\"負價格折扣: {get_discount(-50, 'vip')}\")"
   ]
  },
  {
   "cell_type": "markdown",
   "metadata": {},
   "source": [
    "## 4.6 基於條件的返回值\n",
    "\n",
    "函數可以根據不同的條件返回不同類型的值。這提供了極大的靈活性，但也需要在使用時謹慎處理。"
   ]
  },
  {
   "cell_type": "code",
   "execution_count": null,
   "metadata": {},
   "outputs": [],
   "source": [
    "def find_student(student_id, students):\n",
    "    \"\"\"根據 ID 查找學生\"\"\"\n",
    "    for student in students:\n",
    "        if student[\"id\"] == student_id:\n",
    "            return student  # 返回找到的學生字典\n",
    "    \n",
    "    return None  # 未找到學生時返回 None\n",
    "\n",
    "# 示例學生列表\n",
    "students_list = [\n",
    "    {\"id\": 1, \"name\": \"張三\", \"grade\": \"A\"},\n",
    "    {\"id\": 2, \"name\": \"李四\", \"grade\": \"B\"},\n",
    "    {\"id\": 3, \"name\": \"王五\", \"grade\": \"A\"}\n",
    "]\n",
    "\n",
    "# 尋找學生\n",
    "student = find_student(2, students_list)\n",
    "if student:\n",
    "    print(f\"找到學生: {student['name']}，等級: {student['grade']}\")\n",
    "else:\n",
    "    print(\"未找到學生\")\n",
    "\n",
    "# 尋找不存在的學生\n",
    "student = find_student(4, students_list)\n",
    "if student:\n",
    "    print(f\"找到學生: {student['name']}，等級: {student['grade']}\")\n",
    "else:\n",
    "    print(\"未找到學生\")"
   ]
  },
  {
   "cell_type": "markdown",
   "metadata": {},
   "source": [
    "## 4.7 函數作為返回值\n",
    "\n",
    "在 Python 中，函數是第一類對象，這意味著函數可以返回另一個函數。這是實現高階函數和閉包的基礎。"
   ]
  },
  {
   "cell_type": "code",
   "execution_count": null,
   "metadata": {},
   "outputs": [],
   "source": [
    "def create_multiplier(factor):\n",
    "    \"\"\"創建一個乘法器函數\"\"\"\n",
    "    def multiplier(x):\n",
    "        return x * factor\n",
    "    \n",
    "    return multiplier  # 返回內部函數\n",
    "\n",
    "# 創建不同的乘法器\n",
    "double = create_multiplier(2)  # 創建一個使數字加倍的函數\n",
    "triple = create_multiplier(3)  # 創建一個使數字變為三倍的函數\n",
    "\n",
    "# 使用這些函數\n",
    "print(f\"5 的兩倍: {double(5)}\")\n",
    "print(f\"5 的三倍: {triple(5)}\")"
   ]
  },
  {
   "cell_type": "markdown",
   "metadata": {},
   "source": [
    "## 4.8 使用返回值的技巧\n",
    "\n",
    "### 4.8.1 鏈式調用\n",
    "\n",
    "如果函數返回的對象本身有方法，我們可以直接在函數返回值上調用這些方法，這被稱為鏈式調用。"
   ]
  },
  {
   "cell_type": "code",
   "execution_count": null,
   "metadata": {},
   "outputs": [],
   "source": [
    "def get_names():\n",
    "    \"\"\"返回一個包含名字的列表\"\"\"\n",
    "    return [\"Zhang\", \"Li\", \"Wang\", \"Zhao\", \"Liu\"]\n",
    "\n",
    "# 注意: sort() 方法返回 None，因此不適合鏈式調用\n",
    "names = get_names()\n",
    "names.sort()\n",
    "print(f\"排序後的名字: {names}\")\n",
    "\n",
    "# 正確的鏈式調用：使用 sorted() 函數和其他方法\n",
    "uppercase_sorted = sorted(get_names())[0:3]  # 獲取排序後的前三個名字\n",
    "print(f\"前三個排序名字: {uppercase_sorted}\")"
   ]
  },
  {
   "cell_type": "markdown",
   "metadata": {},
   "source": [
    "### 4.8.2 條件表達式中的返回值\n",
    "\n",
    "返回值可以用在條件表達式中，例如 `if` 語句或者 `while` 循環。"
   ]
  },
  {
   "cell_type": "code",
   "execution_count": null,
   "metadata": {},
   "outputs": [],
   "source": [
    "def get_user(user_id):\n",
    "    \"\"\"獲取用戶信息，不存在時返回 None\"\"\"\n",
    "    users = {1: \"Alice\", 2: \"Bob\", 3: \"Charlie\"}\n",
    "    return users.get(user_id)  # 不存在時返回 None\n",
    "\n",
    "# 在條件表達式中使用返回值\n",
    "user_id = 2\n",
    "if get_user(user_id):\n",
    "    print(f\"用戶 {user_id} 存在: {get_user(user_id)}\")\n",
    "else:\n",
    "    print(f\"用戶 {user_id} 不存在\")\n",
    "\n",
    "user_id = 4\n",
    "if get_user(user_id):\n",
    "    print(f\"用戶 {user_id} 存在: {get_user(user_id)}\")\n",
    "else:\n",
    "    print(f\"用戶 {user_id} 不存在\")"
   ]
  },
  {
   "cell_type": "markdown",
   "metadata": {},
   "source": [
    "### 4.8.3 使用 lambda 函數返回值\n",
    "\n",
    "Lambda 函數可以創建簡短的匿名函數，它們總是返回一個值。"
   ]
  },
  {
   "cell_type": "code",
   "execution_count": null,
   "metadata": {},
   "outputs": [],
   "source": [
    "# 使用 lambda 函數返回值\n",
    "multiply = lambda x, y: x * y\n",
    "print(f\"3 * 4 = {multiply(3, 4)}\")\n",
    "\n",
    "# 在排序中使用 lambda 返回值\n",
    "students = [\n",
    "    {\"name\": \"張三\", \"score\": 85},\n",
    "    {\"name\": \"李四\", \"score\": 92},\n",
    "    {\"name\": \"王五\", \"score\": 78}\n",
    "]\n",
    "\n",
    "# 按照分數排序\n",
    "sorted_students = sorted(students, key=lambda student: student[\"score\"], reverse=True)\n",
    "print(\"\\n學生按分數排序:\")\n",
    "for student in sorted_students:\n",
    "    print(f\"  {student['name']}: {student['score']}\")"
   ]
  },
  {
   "cell_type": "markdown",
   "metadata": {},
   "source": [
    "## 4.9 返回值的最佳實踐\n",
    "\n",
    "以下是一些關於函數返回值的最佳實踐建議："
   ]
  },
  {
   "cell_type": "markdown",
   "metadata": {},
   "source": [
    "### 1. 保持返回值類型的一致性\n",
    "\n",
    "一個函數在不同情況下應該返回相同類型的值，這樣可以讓調用者更容易處理返回值。"
   ]
  },
  {
   "cell_type": "code",
   "execution_count": null,
   "metadata": {},
   "outputs": [],
   "source": [
    "# 不好的例子：返回類型不一致\n",
    "def find_index_bad(item, items):\n",
    "    \"\"\"查找項目在列表中的索引\"\"\"\n",
    "    if not items:  # 空列表\n",
    "        return False  # 返回布爾值\n",
    "    \n",
    "    try:\n",
    "        return items.index(item)  # 返回整數\n",
    "    except ValueError:\n",
    "        return None  # 返回 None\n",
    "\n",
    "# 更好的例子：返回類型一致\n",
    "def find_index_good(item, items):\n",
    "    \"\"\"查找項目在列表中的索引，不存在則返回 -1\"\"\"\n",
    "    if not items:  # 空列表\n",
    "        return -1  # 返回整數\n",
    "    \n",
    "    try:\n",
    "        return items.index(item)  # 返回整數\n",
    "    except ValueError:\n",
    "        return -1  # 返回整數\n",
    "\n",
    "# 測試兩個函數\n",
    "fruits = [\"apple\", \"banana\", \"orange\"]\n",
    "print(f\"Bad: orange 的索引是: {find_index_bad('orange', fruits)}\")\n",
    "print(f\"Bad: grape 的索引是: {find_index_bad('grape', fruits)}\")\n",
    "print(f\"Bad: 空列表中查找: {find_index_bad('apple', [])}\")\n",
    "\n",
    "print(f\"Good: orange 的索引是: {find_index_good('orange', fruits)}\")\n",
    "print(f\"Good: grape 的索引是: {find_index_good('grape', fruits)}\")\n",
    "print(f\"Good: 空列表中查找: {find_index_good('apple', [])}\")"
   ]
  },
  {
   "cell_type": "markdown",
   "metadata": {},
   "source": [
    "### 2. 使用異常處理代替特殊返回值\n",
    "\n",
    "對於錯誤情況，使用異常而不是特殊返回值可以使代碼更清晰。"
   ]
  },
  {
   "cell_type": "code",
   "execution_count": null,
   "metadata": {},
   "outputs": [],
   "source": [
    "# 使用特殊返回值\n",
    "def divide_v1(a, b):\n",
    "    if b == 0:\n",
    "        return None  # 特殊返回值\n",
    "    return a / b\n",
    "\n",
    "# 使用異常處理\n",
    "def divide_v2(a, b):\n",
    "    if b == 0:\n",
    "        raise ValueError(\"除數不能為零\")  # 拋出異常\n",
    "    return a / b\n",
    "\n",
    "# 測試第一個版本\n",
    "result = divide_v1(10, 2)\n",
    "if result is not None:\n",
    "    print(f\"10 / 2 = {result}\")\n",
    "else:\n",
    "    print(\"除法失敗\")\n",
    "\n",
    "result = divide_v1(5, 0)\n",
    "if result is not None:\n",
    "    print(f\"5 / 0 = {result}\")\n",
    "else:\n",
    "    print(\"除法失敗\")\n",
    "\n",
    "# 測試第二個版本\n",
    "try:\n",
    "    result = divide_v2(10, 2)\n",
    "    print(f\"10 / 2 = {result}\")\n",
    "except ValueError as e:\n",
    "    print(f\"錯誤: {e}\")\n",
    "\n",
    "try:\n",
    "    result = divide_v2(5, 0)\n",
    "    print(f\"5 / 0 = {result}\")\n",
    "except ValueError as e:\n",
    "    print(f\"錯誤: {e}\")"
   ]
  },
  {
   "cell_type": "markdown",
   "metadata": {},
   "source": [
    "### 3. 返回值應該是有用的\n",
    "\n",
    "函數的返回值應該提供有用的信息。例如，如果一個函數主要是為了其副作用（如打印或修改參數），可以考慮不返回任何值或返回操作的狀態。"
   ]
  },
  {
   "cell_type": "code",
   "execution_count": null,
   "metadata": {},
   "outputs": [],
   "source": [
    "# 返回有用資訊的函數\n",
    "def save_user(user):\n",
    "    \"\"\"保存用戶信息，返回操作是否成功\"\"\"\n",
    "    # 在實際應用中，這裡會有數據庫操作\n",
    "    try:\n",
    "        print(f\"正在保存用戶: {user['name']}\")\n",
    "        # ... 保存邏輯 ...\n",
    "        return True  # 操作成功\n",
    "    except Exception as e:\n",
    "        print(f\"保存失敗: {e}\")\n",
    "        return False  # 操作失敗\n",
    "\n",
    "# 測試\n",
    "user_data = {\"id\": 1, \"name\": \"王小明\"}\n",
    "if save_user(user_data):\n",
    "    print(\"用戶保存成功！\")\n",
    "else:\n",
    "    print(\"用戶保存失敗。\")"
   ]
  },
  {
   "cell_type": "markdown",
   "metadata": {},
   "source": [
    "## 4.10 練習：返回值運用\n",
    "\n",
    "編寫一個函數 `calculate_statistics`，接受一個數字列表作為參數，返回一個包含平均值、中位數和眾數的字典。"
   ]
  },
  {
   "cell_type": "code",
   "execution_count": null,
   "metadata": {},
   "outputs": [],
   "source": [
    "# 練習解答\n",
    "def calculate_statistics(numbers):\n",
    "    \"\"\"計算數字列表的統計信息\n",
    "    \n",
    "    參數:\n",
    "        numbers (list): 數字列表\n",
    "        \n",
    "    返回:\n",
    "        dict: 包含平均值、中位數和眾數的字典\n",
    "    \"\"\"\n",
    "    if not numbers:\n",
    "        return {\"error\": \"空列表\"}\n",
    "    \n",
    "    # 計算平均值\n",
    "    mean = sum(numbers) / len(numbers)\n",
    "    \n",
    "    # 計算中位數\n",
    "    sorted_numbers = sorted(numbers)\n",
    "    n = len(sorted_numbers)\n",
    "    if n % 2 == 0:  # 偶數個元素\n",
    "        median = (sorted_numbers[n//2 - 1] + sorted_numbers[n//2]) / 2\n",
    "    else:  # 奇數個元素\n",
    "        median = sorted_numbers[n//2]\n",
    "    \n",
    "    # 計算眾數\n",
    "    from collections import Counter\n",
    "    counter = Counter(numbers)\n",
    "    mode_count = max(counter.values())\n",
    "    modes = [num for num, count in counter.items() if count == mode_count]\n",
    "    \n",
    "    # 返回統計信息字典\n",
    "    return {\n",
    "        \"mean\": mean,\n",
    "        \"median\": median,\n",
    "        \"mode\": modes[0] if len(modes) == 1 else modes\n",
    "    }\n",
    "\n",
    "# 測試函數\n",
    "data = [2, 3, 5, 5, 7, 8, 9, 9, 9, 10]\n",
    "stats = calculate_statistics(data)\n",
    "print(\"數據:\", data)\n",
    "print(\"統計結果:\")\n",
    "for key, value in stats.items():\n",
    "    print(f\"  {key}: {value}\")\n",
    "\n",
    "# 測試空列表\n",
    "empty_stats = calculate_statistics([])\n",
    "print(\"\\n空列表統計結果:\", empty_stats)"
   ]
  },
  {
   "cell_type": "markdown",
   "metadata": {},
   "source": [
    "## 小結\n",
    "\n",
    "在本節中，我們學習了函數返回值的各種形式和用法：\n",
    "\n",
    "- 單一返回值\n",
    "- 多個返回值（元組解包）\n",
    "- 返回複雜數據結構（列表、字典）\n",
    "- 無返回值或返回 None\n",
    "- 提前返回和基於條件的返回\n",
    "- 返回函數作為值\n",
    "- 返回值的最佳實踐\n",
    "\n",
    "掌握這些概念可以幫助我們設計更靈活、更有用的函數。在下一節中，我們將探討函數的作用域和生命週期。"
   ]
  }
 ],
 "metadata": {
  "kernelspec": {
   "display_name": "Python 3",
   "language": "python",
   "name": "python3"
  },
  "language_info": {
   "codemirror_mode": {
    "name": "ipython",
    "version": 3
   },
   "file_extension": ".py",
   "mimetype": "text/x-python",
   "name": "python",
   "nbconvert_exporter": "python",
   "pygments_lexer": "ipython3",
   "version": "3.9.7"
  }
 },
 "nbformat": 4,
 "nbformat_minor": 4
}