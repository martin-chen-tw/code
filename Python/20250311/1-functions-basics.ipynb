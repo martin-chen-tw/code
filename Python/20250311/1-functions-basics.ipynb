{
 "cells": [
  {
   "cell_type": "markdown",
   "metadata": {},
   "source": [
    "# 1. Python 函數基本概念\n",
    "\n",
    "## 1.1 什麼是函數？\n",
    "\n",
    "函數是一個可重複使用的代碼塊，用於執行特定任務。函數的主要優點包括：\n",
    "\n",
    "- **代碼重用**：避免重複編寫相同的代碼\n",
    "- **模組化**：將複雜問題分解為更小、更易管理的部分\n",
    "- **可讀性**：提高代碼的可讀性和可維護性\n",
    "- **測試性**：便於單獨測試特定功能"
   ]
  },
  {
   "cell_type": "markdown",
   "metadata": {},
   "source": [
    "### 生活中的函數類比\n",
    "\n",
    "我們可以將函數想像成日常生活中的一些過程：\n",
    "\n",
    "- **咖啡機**：輸入(咖啡粉、水) → 處理 → 輸出(咖啡)\n",
    "- **洗衣機**：輸入(髒衣服、洗衣粉) → 處理 → 輸出(乾淨衣服)\n",
    "- **計算機**：輸入(數字、運算) → 處理 → 輸出(結果)"
   ]
  },
  {
   "cell_type": "markdown",
   "metadata": {},
   "source": [
    "## 1.2 Python 中的函數類型\n",
    "\n",
    "Python 中有三種主要的函數類型：\n",
    "\n",
    "1. **內建函數**：Python 自帶的函數，如 `print()`, `len()`, `max()` 等\n",
    "2. **用戶自定義函數**：由程序員創建的函數\n",
    "3. **匿名函數**：使用 `lambda` 關鍵字創建的沒有名稱的函數"
   ]
  },
  {
   "cell_type": "code",
   "execution_count": null,
   "metadata": {},
   "outputs": [],
   "source": [
    "# 內建函數示例\n",
    "print(\"Hello, World!\")  # 打印函數\n",
    "length = len(\"Python\")  # 長度函數\n",
    "print(f\"'Python' 的長度是: {length}\")\n",
    "\n",
    "maximum = max(10, 5, 20)  # 最大值函數\n",
    "print(f\"最大值是: {maximum}\")"
   ]
  },
  {
   "cell_type": "code",
   "execution_count": null,
   "metadata": {},
   "outputs": [],
   "source": [
    "# 顯示部分內建函數列表\n",
    "import builtins\n",
    "built_in_functions = [func for func in dir(builtins) if callable(getattr(builtins, func)) and not func.startswith('_')]\n",
    "print(f\"Python 內建函數的部分列表: {built_in_functions[:15]}...\")"
   ]
  },
  {
   "cell_type": "markdown",
   "metadata": {},
   "source": [
    "## 1.3 函數的基本結構\n",
    "\n",
    "在 Python 中，函數通常由以下幾個部分組成：\n",
    "\n",
    "1. **函數名稱**：說明函數的用途\n",
    "2. **參數**：函數接受的輸入\n",
    "3. **函數體**：函數執行的代碼\n",
    "4. **返回值**：函數處理後的輸出\n",
    "5. **文檔字符串**：說明函數功能（可選）"
   ]
  },
  {
   "cell_type": "code",
   "execution_count": null,
   "metadata": {},
   "outputs": [],
   "source": [
    "# 一個簡單的函數示例\n",
    "def greet(name):             # 函數名和參數\n",
    "    \"\"\"向指定的人問候\"\"\"      # 文檔字符串\n",
    "    message = f\"您好，{name}！\" # 函數體\n",
    "    return message          # 返回值\n",
    "\n",
    "# 調用函數\n",
    "greeting = greet(\"小明\")\n",
    "print(greeting)"
   ]
  },
  {
   "cell_type": "markdown",
   "metadata": {},
   "source": [
    "## 1.4 為什麼使用函數？\n",
    "\n",
    "讓我們通過一個例子來理解函數的必要性："
   ]
  },
  {
   "cell_type": "code",
   "execution_count": null,
   "metadata": {},
   "outputs": [],
   "source": [
    "# 不使用函數的代碼\n",
    "# 計算圓的面積\n",
    "radius1 = 5\n",
    "area1 = 3.14 * radius1 ** 2\n",
    "print(f\"半徑為 {radius1} 的圓面積: {area1}\")\n",
    "\n",
    "# 如果需要計算另一個圓的面積，需要重複代碼\n",
    "radius2 = 7\n",
    "area2 = 3.14 * radius2 ** 2\n",
    "print(f\"半徑為 {radius2} 的圓面積: {area2}\")\n",
    "\n",
    "# 如果公式發生變化，需要修改多處代碼"
   ]
  },
  {
   "cell_type": "code",
   "execution_count": null,
   "metadata": {},
   "outputs": [],
   "source": [
    "# 使用函數的代碼\n",
    "def calculate_circle_area(radius):\n",
    "    \"\"\"計算圓的面積\"\"\"\n",
    "    return 3.14 * radius ** 2\n",
    "\n",
    "# 計算不同圓的面積\n",
    "radius1 = 5\n",
    "radius2 = 7\n",
    "print(f\"半徑為 {radius1} 的圓面積: {calculate_circle_area(radius1)}\")\n",
    "print(f\"半徑為 {radius2} 的圓面積: {calculate_circle_area(radius2)}\")\n",
    "\n",
    "# 如果需要修改公式，只需更改函數定義處"
   ]
  },
  {
   "cell_type": "markdown",
   "metadata": {},
   "source": [
    "## 1.5 函數的好處\n",
    "\n",
    "使用函數的主要好處包括：\n",
    "\n",
    "1. **減少代碼重複**：同樣的代碼只需寫一次\n",
    "2. **易於維護**：只需在一處修改邏輯\n",
    "3. **提高代碼可讀性**：適當命名的函數使代碼更容易理解\n",
    "4. **促進團隊協作**：不同人可以專注於不同函數\n",
    "5. **分離關注點**：不同功能的代碼分離管理\n",
    "6. **便於測試**：可以單獨測試每個函數的功能"
   ]
  },
  {
   "cell_type": "markdown",
   "metadata": {},
   "source": [
    "## 1.6 實踐練習\n",
    "\n",
    "嘗試觀察以下函數範例，並思考其功能："
   ]
  },
  {
   "cell_type": "code",
   "execution_count": null,
   "metadata": {},
   "outputs": [],
   "source": [
    "# 思考：這個函數做什麼？\n",
    "def mystery_function(x, y):\n",
    "    if x > y:\n",
    "        return x\n",
    "    else:\n",
    "        return y\n",
    "\n",
    "# 測試\n",
    "result = mystery_function(10, 5)\n",
    "print(f\"mystery_function(10, 5) = {result}\")\n",
    "\n",
    "result = mystery_function(3, 8)\n",
    "print(f\"mystery_function(3, 8) = {result}\")"
   ]
  },
  {
   "cell_type": "markdown",
   "metadata": {},
   "source": [
    "**提示**：觀察函數的行為，這個函數實際上是返回兩個數中的較大值，等同於內建函數 `max(x, y)`。"
   ]
  },
  {
   "cell_type": "markdown",
   "metadata": {},
   "source": [
    "## 小結\n",
    "\n",
    "在本節中，我們學習了：\n",
    "\n",
    "- 函數的基本概念和重要性\n",
    "- Python 中的不同函數類型\n",
    "- 函數的基本結構\n",
    "- 使用函數的優點\n",
    "\n",
    "在下一節中，我們將詳細探討如何定義和調用函數。"
   ]
  }
 ],
 "metadata": {
  "kernelspec": {
   "display_name": "Python 3",
   "language": "python",
   "name": "python3"
  },
  "language_info": {
   "codemirror_mode": {
    "name": "ipython",
    "version": 3
   },
   "file_extension": ".py",
   "mimetype": "text/x-python",
   "name": "python",
   "nbconvert_exporter": "python",
   "pygments_lexer": "ipython3",
   "version": "3.9.7"
  }
 },
 "nbformat": 4,
 "nbformat_minor": 4
}