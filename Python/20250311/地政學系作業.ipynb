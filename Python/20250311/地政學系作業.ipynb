{
 "cells": [
  {
   "cell_type": "markdown",
   "metadata": {},
   "source": [
    "# Python 函數應用作業 - 地政學系\n",
    "\n",
    "## 作業說明\n",
    "\n",
    "本作業旨在幫助你將Python函數的知識應用於地政領域的實際問題。請完成以下5個題目，並提交完整的解答代碼。\n",
    "\n",
    "* 繳交期限：3月25日前繳交\n",
    "* 評分標準：代碼正確性(80%)、創新性(10%)、文檔註解完整性(10%)\n",
    "* 繳交方式：將完成的ipynb檔案上傳至課程平台"
   ]
  },
  {
   "cell_type": "markdown",
   "metadata": {},
   "source": [
    "## 題目一：土地面積計算函數\n",
    "\n",
    "設計一個函數 `calculate_land_area`，該函數接受不規則多邊形土地的座標點列表（每個點為(x, y)座標），並計算出土地的總面積。\n",
    "\n",
    "提示：可以使用測量學中的坐標法計算多邊形面積，即 Area = 0.5 * |∑(x_i * y_{i+1} - x_{i+1} * y_i)|，其中座標點按順時針或逆時針順序排列。"
   ]
  },
  {
   "cell_type": "code",
   "execution_count": null,
   "metadata": {},
   "outputs": [],
   "source": [
    "def calculate_land_area(coordinates):\n",
    "    \"\"\"計算不規則多邊形土地的面積\n",
    "    \n",
    "    參數:\n",
    "        coordinates: 包含(x, y)坐標點的列表，按順時針或逆時針順序排列\n",
    "        \n",
    "    返回:\n",
    "        多邊形的面積\n",
    "    \"\"\"\n",
    "    # 實現你的代碼\n",
    "    pass"
   ]
  },
  {
   "cell_type": "markdown",
   "metadata": {},
   "source": [
    "## 題目二：座標轉換函數\n",
    "\n",
    "創建一個函數 `convert_coordinates`，可在TWD97和WGS84座標系統之間進行轉換。該函數應接受以下參數：\n",
    "- `coord_type`: 指定座標型別 (\"TWD97\" 或 \"WGS84\")\n",
    "- `x`: x座標(經度)\n",
    "- `y`: y座標(緯度)\n",
    "- `to_type`: 目標座標型別 (\"TWD97\" 或 \"WGS84\")\n",
    "\n",
    "函數應返回轉換後的座標(x, y)。\n",
    "\n",
    "提示：座標轉換涉及複雜的數學計算，你可以使用簡化的轉換公式或參數。"
   ]
  },
  {
   "cell_type": "code",
   "execution_count": null,
   "metadata": {},
   "outputs": [],
   "source": [
    "def convert_coordinates(coord_type, x, y, to_type):\n",
    "    \"\"\"在不同座標系統之間轉換座標\n",
    "    \n",
    "    參數:\n",
    "        coord_type: 當前座標系統 (\"TWD97\" 或 \"WGS84\")\n",
    "        x: x座標值\n",
    "        y: y座標值\n",
    "        to_type: 目標座標系統 (\"TWD97\" 或 \"WGS84\")\n",
    "        \n",
    "    返回:\n",
    "        轉換後的座標(x, y)元組\n",
    "    \"\"\"\n",
    "    # 實現你的代碼\n",
    "    pass"
   ]
  },
  {
   "cell_type": "markdown",
   "metadata": {},
   "source": [
    "## 題目三：地籍資料處理函數\n",
    "\n",
    "設計一個函數 `filter_land_data`，從地籍資料集中過濾並提取符合特定條件的資料。該函數應接受：\n",
    "- `land_data`: 包含地籍資料的字典列表 (每個字典包含 'id', 'area', 'zoning', 'owner', 'value' 等欄位)\n",
    "- `filter_criteria`: 過濾條件的字典 (如 {'zoning': '住宅區', 'min_area': 100})\n",
    "\n",
    "函數應返回符合所有條件的資料列表。\n",
    "\n",
    "提示：使用 lambda 函數和 filter() 可能有助於實現此功能。"
   ]
  },
  {
   "cell_type": "code",
   "execution_count": null,
   "metadata": {},
   "outputs": [],
   "source": [
    "def filter_land_data(land_data, filter_criteria):\n",
    "    \"\"\"過濾地籍資料\n",
    "    \n",
    "    參數:\n",
    "        land_data: 包含地籍資料的字典列表\n",
    "        filter_criteria: 過濾條件字典\n",
    "        \n",
    "    返回:\n",
    "        符合過濾條件的資料列表\n",
    "    \"\"\"\n",
    "    # 實現你的代碼\n",
    "    pass"
   ]
  },
  {
   "cell_type": "markdown",
   "metadata": {},
   "source": [
    "## 題目四：土地估價函數\n",
    "\n",
    "編寫一個函數 `estimate_land_value`，根據多種因素估算土地價值。該函數應接受：\n",
    "- `base_price`: 基準地價 (每平方公尺)\n",
    "- `area`: 土地面積 (平方公尺)\n",
    "- `factors`: 影響價格的因素字典 (如 {'location': 1.2, 'zoning': 0.9, 'accessibility': 1.1})\n",
    "\n",
    "函數應返回估算的土地總價值。\n",
    "\n",
    "提示：可以使用函數式編程的概念，如reduce()來將多個因素組合成一個總調整因子。"
   ]
  },
  {
   "cell_type": "code",
   "execution_count": null,
   "metadata": {},
   "outputs": [],
   "source": [
    "def estimate_land_value(base_price, area, factors):\n",
    "    \"\"\"估算土地價值\n",
    "    \n",
    "    參數:\n",
    "        base_price: 基準地價 (每平方公尺)\n",
    "        area: 土地面積 (平方公尺)\n",
    "        factors: 影響因素字典\n",
    "        \n",
    "    返回:\n",
    "        估算的土地總價值\n",
    "    \"\"\"\n",
    "    # 實現你的代碼\n",
    "    pass"
   ]
  },
  {
   "cell_type": "markdown",
   "metadata": {},
   "source": [
    "## 題目五：地形坡度分析函數\n",
    "\n",
    "使用遞迴函數實現地形坡度分析。創建一個函數 `analyze_slope`，該函數接受：\n",
    "- `elevation_data`: 一個二維列表，表示不同點的海拔高度\n",
    "- `threshold`: 坡度閾值，用於標識陡峭區域\n",
    "\n",
    "函數應返回一個同樣大小的二維列表，其中標記了坡度超過閾值的位置。\n",
    "\n",
    "提示：相鄰點之間的坡度可以通過海拔差除以水平距離來計算。"
   ]
  },
  {
   "cell_type": "code",
   "execution_count": null,
   "metadata": {},
   "outputs": [],
   "source": [
    "def analyze_slope(elevation_data, threshold):\n",
    "    \"\"\"分析地形坡度\n",
    "    \n",
    "    參數:\n",
    "        elevation_data: 二維列表，表示不同點的海拔高度\n",
    "        threshold: 坡度閾值\n",
    "        \n",
    "    返回:\n",
    "        標記了陡峭區域的二維列表\n",
    "    \"\"\"\n",
    "    # 實現你的代碼\n",
    "    pass"
   ]
  }
 ],
 "metadata": {
  "kernelspec": {
   "display_name": "Python 3",
   "language": "python",
   "name": "python3"
  },
  "language_info": {
   "codemirror_mode": {
    "name": "ipython",
    "version": 3
   },
   "file_extension": ".py",
   "mimetype": "text/x-python",
   "name": "python",
   "nbconvert_exporter": "python",
   "pygments_lexer": "ipython3",
   "version": "3.9.7"
  }
 },
 "nbformat": 4,
 "nbformat_minor": 4
}
