{
 "cells": [
  {
   "cell_type": "markdown",
   "metadata": {},
   "source": [
    "# Python 函數教學大綱\n",
    "\n",
    "本課程為Python入門系列的第三堂課，重點講解Python中的函數(Functions)概念與應用。課程長度為2小時，將涵蓋以下主題：\n",
    "\n",
    "## 教學目標\n",
    "\n",
    "通過本課程，學員將能：\n",
    "- 理解函數的基本概念與用途\n",
    "- 掌握函數的定義與調用方法\n",
    "- 了解不同類型的參數與傳遞機制\n",
    "- 學習函數作用域與變數生命週期\n",
    "- 認識Lambda函數與遞迴函數\n",
    "- 掌握函數式編程的基礎概念\n",
    "\n",
    "## 課程內容\n",
    "\n",
    "本課程共分為7個部分：\n",
    "\n",
    "1. **函數基本概念** - 介紹函數的定義、優點和Python中的函數類型\n",
    "2. **函數定義與調用** - 學習如何定義和調用函數，以及函數文檔\n",
    "3. **參數類型與傳遞** - 詳解不同類型的參數及其傳遞機制\n",
    "4. **返回值** - 介紹函數返回值的各種形式\n",
    "5. **作用域與生命週期** - 講解變數作用域和生命週期\n",
    "6. **Lambda與遞迴函數** - 學習Lambda表達式和遞迴函數的概念與應用\n",
    "7. **實用練習** - 通過練習鞏固所學內容\n",
    "\n",
    "## 適合對象\n",
    "\n",
    "- 完成基礎Python語法學習的初學者\n",
    "- 希望提升代碼結構和重用性的程序員\n",
    "- 想要學習函數式編程概念的開發者\n",
    "\n",
    "## 預備知識\n",
    "\n",
    "參加本課程前，建議您已具備：\n",
    "- Python基本語法知識\n",
    "- 變數和數據類型的基本概念\n",
    "- 能夠編寫簡單的Python程序"
   ]
  }
 ],
 "metadata": {
  "kernelspec": {
   "display_name": "Python 3",
   "language": "python",
   "name": "python3"
  },
  "language_info": {
   "codemirror_mode": {
    "name": "ipython",
    "version": 3
   },
   "file_extension": ".py",
   "mimetype": "text/x-python",
   "name": "python",
   "nbconvert_exporter": "python",
   "pygments_lexer": "ipython3",
   "version": "3.9.7"
  }
 },
 "nbformat": 4,
 "nbformat_minor": 4
}