{
 "cells": [
  {
   "cell_type": "markdown",
   "metadata": {},
   "source": [
    "# 2. 函數的定義與調用\n",
    "\n",
    "## 2.1 定義函數\n",
    "\n",
    "在 Python 中，使用 `def` 關鍵字定義函數，基本語法如下：\n",
    "\n",
    "```python\n",
    "def 函數名(參數1, 參數2, ...):\n",
    "    \"\"\"函數文檔字符串（說明）\"\"\"\n",
    "    # 函數體（代碼塊）\n",
    "    return 返回值  # 可選\n",
    "```"
   ]
  },
  {
   "cell_type": "code",
   "execution_count": null,
   "metadata": {},
   "outputs": [],
   "source": [
    "# 定義一個簡單的函數\n",
    "def say_hello():\n",
    "    \"\"\"打印一個問候語\"\"\"\n",
    "    print(\"Hello, World!\")\n",
    "\n",
    "# 調用函數\n",
    "say_hello()"
   ]
  },
  {
   "cell_type": "code",
   "execution_count": null,
   "metadata": {},
   "outputs": [],
   "source": [
    "# 帶參數的函數\n",
    "def greet(name):\n",
    "    \"\"\"向指定的人問候\"\"\"\n",
    "    print(f\"您好，{name}！\")\n",
    "\n",
    "# 調用帶參數的函數\n",
    "greet(\"小明\")\n",
    "greet(\"小華\")"
   ]
  },
  {
   "cell_type": "code",
   "execution_count": null,
   "metadata": {},
   "outputs": [],
   "source": [
    "# 帶返回值的函數\n",
    "def add(a, b):\n",
    "    \"\"\"返回兩個數的和\"\"\"\n",
    "    return a + b\n",
    "\n",
    "# 調用帶返回值的函數\n",
    "result = add(3, 5)\n",
    "print(f\"3 + 5 = {result}\")"
   ]
  },
  {
   "cell_type": "markdown",
   "metadata": {},
   "source": [
    "## 2.2 函數命名規則\n",
    "\n",
    "函數名遵循與變數相同的命名規則：\n",
    "\n",
    "- 只能包含字母、數字和下劃線\n",
    "- 不能以數字開頭\n",
    "- 不能使用Python保留字\n",
    "- 區分大小寫\n",
    "\n",
    "**命名建議**：\n",
    "- 使用小寫字母和下劃線（蛇形命名法）\n",
    "- 函數名應該是動詞或動詞短語\n",
    "- 名稱應該反映函數的用途"
   ]
  },
  {
   "cell_type": "code",
   "execution_count": null,
   "metadata": {},
   "outputs": [],
   "source": [
    "# 好的函數命名範例\n",
    "def calculate_area(radius):\n",
    "    return 3.14 * radius ** 2\n",
    "\n",
    "def get_full_name(first_name, last_name):\n",
    "    return f\"{first_name} {last_name}\"\n",
    "\n",
    "def is_adult(age):\n",
    "    return age >= 18\n",
    "\n",
    "# 調用示例\n",
    "area = calculate_area(5)\n",
    "name = get_full_name(\"張\", \"三\")\n",
    "adult_status = is_adult(20)\n",
    "\n",
    "print(f\"圓的面積: {area}\")\n",
    "print(f\"全名: {name}\")\n",
    "print(f\"是否成年: {adult_status}\")"
   ]
  },
  {
   "cell_type": "markdown",
   "metadata": {},
   "source": [
    "## 2.3 函數的文檔字符串\n",
    "\n",
    "文檔字符串（docstring）是用於說明函數用途的字符串，它應包含：\n",
    "- 函數的功能描述\n",
    "- 參數說明\n",
    "- 返回值說明\n",
    "- 使用示例（可選）"
   ]
  },
  {
   "cell_type": "code",
   "execution_count": null,
   "metadata": {},
   "outputs": [],
   "source": [
    "def calculate_circle_area(radius):\n",
    "    \"\"\"計算圓的面積。\n",
    "    \n",
    "    參數:\n",
    "        radius (float): 圓的半徑\n",
    "        \n",
    "    返回:\n",
    "        float: 圓的面積\n",
    "        \n",
    "    示例:\n",
    "        >>> calculate_circle_area(5)\n",
    "        78.5\n",
    "    \"\"\"\n",
    "    return 3.14 * radius ** 2\n",
    "\n",
    "# 計算面積\n",
    "area = calculate_circle_area(5)\n",
    "print(f\"半徑為 5 的圓面積: {area}\")\n",
    "\n",
    "# 顯示函數的文檔\n",
    "print(\"\\n函數文檔:\")\n",
    "print(calculate_circle_area.__doc__)\n",
    "\n",
    "# 使用 help() 函數查看文檔\n",
    "help(calculate_circle_area)"
   ]
  },
  {
   "cell_type": "markdown",
   "metadata": {},
   "source": [
    "## 2.4 調用函數\n",
    "\n",
    "調用函數時，使用函數名加上括號，括號中包含需要傳遞的參數（如果有）。"
   ]
  },
  {
   "cell_type": "code",
   "execution_count": null,
   "metadata": {},
   "outputs": [],
   "source": [
    "# 定義函數\n",
    "def multiply(x, y):\n",
    "    \"\"\"返回兩個數的乘積\"\"\"\n",
    "    return x * y\n",
    "\n",
    "# 不同的調用方式\n",
    "# 1. 直接傳入值\n",
    "result1 = multiply(3, 5)\n",
    "print(f\"3 × 5 = {result1}\")\n",
    "\n",
    "# 2. 使用變數\n",
    "a, b = 10, 4\n",
    "result2 = multiply(a, b)\n",
    "print(f\"{a} × {b} = {result2}\")\n",
    "\n",
    "# 3. 使用表達式\n",
    "result3 = multiply(2 + 3, 4 - 1)\n",
    "print(f\"(2 + 3) × (4 - 1) = {result3}\")\n",
    "\n",
    "# 4. 嵌套調用\n",
    "result4 = multiply(multiply(2, 3), 4)\n",
    "print(f\"(2 × 3) × 4 = {result4}\")"
   ]
  },
  {
   "cell_type": "markdown",
   "metadata": {},
   "source": [
    "## 2.5 函數的靈活使用\n",
    "\n",
    "函數可以被多種方式使用和組合："
   ]
  },
  {
   "cell_type": "code",
   "execution_count": null,
   "metadata": {},
   "outputs": [],
   "source": [
    "# 在列表中使用函數\n",
    "numbers = [1, 2, 3, 4, 5]\n",
    "squared_numbers = []\n",
    "\n",
    "def square(x):\n",
    "    \"\"\"返回數字的平方\"\"\"\n",
    "    return x ** 2\n",
    "\n",
    "for num in numbers:\n",
    "    squared_numbers.append(square(num))\n",
    "    \n",
    "print(f\"原始數字: {numbers}\")\n",
    "print(f\"平方後: {squared_numbers}\")"
   ]
  },
  {
   "cell_type": "code",
   "execution_count": null,
   "metadata": {},
   "outputs": [],
   "source": [
    "# 函數作為參數傳遞\n",
    "def apply_function(func, value):\n",
    "    \"\"\"將函數應用於值\"\"\"\n",
    "    return func(value)\n",
    "\n",
    "def double(x):\n",
    "    \"\"\"返回數字的兩倍\"\"\"\n",
    "    return x * 2\n",
    "\n",
    "def triple(x):\n",
    "    \"\"\"返回數字的三倍\"\"\"\n",
    "    return x * 3\n",
    "\n",
    "# 應用不同的函數\n",
    "value = 5\n",
    "print(f\"原始值: {value}\")\n",
    "print(f\"加倍後: {apply_function(double, value)}\")\n",
    "print(f\"三倍後: {apply_function(triple, value)}\")"
   ]
  },
  {
   "cell_type": "markdown",
   "metadata": {},
   "source": [
    "## 2.6 無返回值函數\n",
    "\n",
    "如果函數沒有 `return` 語句，或使用了沒有值的 `return`，則返回 `None`。"
   ]
  },
  {
   "cell_type": "code",
   "execution_count": null,
   "metadata": {},
   "outputs": [],
   "source": [
    "# 無返回值函數\n",
    "def greet_user(name):\n",
    "    \"\"\"問候用戶\"\"\"\n",
    "    print(f\"您好，{name}！\")\n",
    "    # 沒有 return 語句\n",
    "\n",
    "result = greet_user(\"小明\")\n",
    "print(f\"函數的返回值: {result}\")"
   ]
  },
  {
   "cell_type": "code",
   "execution_count": null,
   "metadata": {},
   "outputs": [],
   "source": [
    "# 顯式返回 None\n",
    "def process_data(data):\n",
    "    \"\"\"處理數據\"\"\"\n",
    "    print(f\"處理了數據: {data}\")\n",
    "    return  # 等同於 return None\n",
    "\n",
    "result = process_data(\"some data\")\n",
    "print(f\"返回值: {result}\")"
   ]
  },
  {
   "cell_type": "markdown",
   "metadata": {},
   "source": [
    "## 2.7 提前返回 (Early Return)\n",
    "\n",
    "函數可以在任何點使用 `return` 語句結束執行並返回值。這對於實現條件邏輯特別有用。"
   ]
  },
  {
   "cell_type": "code",
   "execution_count": null,
   "metadata": {},
   "outputs": [],
   "source": [
    "def get_grade(score):\n",
    "    \"\"\"根據分數返回等級\"\"\"\n",
    "    if score < 0 or score > 100:\n",
    "        return \"無效分數\"  # 提前返回\n",
    "        \n",
    "    if score >= 90:\n",
    "        return \"A\"\n",
    "    elif score >= 80:\n",
    "        return \"B\"\n",
    "    elif score >= 70:\n",
    "        return \"C\"\n",
    "    elif score >= 60:\n",
    "        return \"D\"\n",
    "    else:\n",
    "        return \"F\"\n",
    "\n",
    "# 測試函數\n",
    "print(f\"95分: {get_grade(95)}\")\n",
    "print(f\"75分: {get_grade(75)}\")\n",
    "print(f\"50分: {get_grade(50)}\")\n",
    "print(f\"-10分: {get_grade(-10)}\")"
   ]
  },
  {
   "cell_type": "markdown",
   "metadata": {},
   "source": [
    "## 2.8 練習：定義和調用函數\n",
    "\n",
    "創建一個函數 `calculate_bmi`，接受身高（厘米）和體重（公斤）作為參數，計算並返回 BMI (Body Mass Index)。\n",
    "\n",
    "BMI 計算公式: BMI = 體重(kg) / (身高(m))²"
   ]
  },
  {
   "cell_type": "code",
   "execution_count": null,
   "metadata": {},
   "outputs": [],
   "source": [
    "# 練習解答\n",
    "def calculate_bmi(height_cm, weight_kg):\n",
    "    \"\"\"計算身體質量指數(BMI)\n",
    "    \n",
    "    參數:\n",
    "        height_cm (float): 身高，單位為厘米\n",
    "        weight_kg (float): 體重，單位為公斤\n",
    "        \n",
    "    返回:\n",
    "        float: BMI值\n",
    "    \"\"\"\n",
    "    # 將身高從厘米轉換為米\n",
    "    height_m = height_cm / 100\n",
    "    \n",
    "    # 計算BMI\n",
    "    bmi = weight_kg / (height_m ** 2)\n",
    "    \n",
    "    # 四捨五入到小數點後一位\n",
    "    return round(bmi, 1)\n",
    "\n",
    "# 測試函數\n",
    "my_height = 175  # 厘米\n",
    "my_weight = 68   # 公斤\n",
    "my_bmi = calculate_bmi(my_height, my_weight)\n",
    "\n",
    "print(f\"身高: {my_height} 厘米\")\n",
    "print(f\"體重: {my_weight} 公斤\")\n",
    "print(f\"BMI: {my_bmi}\")"
   ]
  },
  {
   "cell_type": "markdown",
   "metadata": {},
   "source": [
    "## 2.9 函數的最佳實踐\n",
    "\n",
    "設計良好的函數應遵循以下原則：\n",
    "\n",
    "1. **單一職責原則**：一個函數應該只做一件事情，並做好它\n",
    "2. **有意義的命名**：函數名應明確表達其功能\n",
    "3. **適當的文檔**：提供清晰的說明、參數和返回值描述\n",
    "4. **合適的長度**：一般不超過20-30行代碼\n",
    "5. **參數數量適中**：通常不超過4-5個參數\n",
    "6. **一致的返回值**：函數應該始終返回相同類型的值"
   ]
  },
  {
   "cell_type": "markdown",
   "metadata": {},
   "source": [
    "### 示例：重構函數\n",
    "\n",
    "下面是一個不良設計的函數及其改進版本："
   ]
  },
  {
   "cell_type": "code",
   "execution_count": null,
   "metadata": {},
   "outputs": [],
   "source": [
    "# 不良設計的函數\n",
    "def process(x, y, operation, verbose):\n",
    "    \"\"\"處理數據\"\"\"\n",
    "    if operation == \"add\":\n",
    "        result = x + y\n",
    "        if verbose:\n",
    "            print(f\"{x} + {y} = {result}\")\n",
    "    elif operation == \"subtract\":\n",
    "        result = x - y\n",
    "        if verbose:\n",
    "            print(f\"{x} - {y} = {result}\")\n",
    "    elif operation == \"multiply\":\n",
    "        result = x * y\n",
    "        if verbose:\n",
    "            print(f\"{x} * {y} = {result}\")\n",
    "    else:\n",
    "        print(\"不支持的操作\")\n",
    "        return None\n",
    "    return result\n",
    "\n",
    "# 使用這個不良設計的函數\n",
    "process(5, 3, \"add\", True)\n",
    "process(10, 4, \"multiply\", False)"
   ]
  },
  {
   "cell_type": "code",
   "execution_count": null,
   "metadata": {},
   "outputs": [],
   "source": [
    "# 改進設計：拆分為多個單一職責的函數\n",
    "def add(x, y):\n",
    "    \"\"\"返回兩個數的和\"\"\"\n",
    "    return x + y\n",
    "\n",
    "def subtract(x, y):\n",
    "    \"\"\"返回兩個數的差\"\"\"\n",
    "    return x - y\n",
    "\n",
    "def multiply(x, y):\n",
    "    \"\"\"返回兩個數的積\"\"\"\n",
    "    return x * y\n",
    "\n",
    "def print_result(x, y, operation, result):\n",
    "    \"\"\"打印計算結果\"\"\"\n",
    "    operators = {\"add\": \"+\", \"subtract\": \"-\", \"multiply\": \"*\"}\n",
    "    op_symbol = operators.get(operation, \"?\")\n",
    "    print(f\"{x} {op_symbol} {y} = {result}\")\n",
    "\n",
    "def process_improved(x, y, operation, verbose=False):\n",
    "    \"\"\"處理兩個數的運算\n",
    "    \n",
    "    參數:\n",
    "        x, y: 操作數\n",
    "        operation: 運算類型 (\"add\", \"subtract\", \"multiply\")\n",
    "        verbose: 是否打印結果\n",
    "        \n",
    "    返回:\n",
    "        運算結果，或者 None（如果運算類型無效）\n",
    "    \"\"\"\n",
    "    # 選擇運算函數\n",
    "    operations = {\n",
    "        \"add\": add,\n",
    "        \"subtract\": subtract,\n",
    "        \"multiply\": multiply\n",
    "    }\n",
    "    \n",
    "    if operation not in operations:\n",
    "        print(\"不支持的操作\")\n",
    "        return None\n",
    "    \n",
    "    # 執行運算\n",
    "    result = operations[operation](x, y)\n",
    "    \n",
    "    # 如果需要，打印結果\n",
    "    if verbose:\n",
    "        print_result(x, y, operation, result)\n",
    "        \n",
    "    return result\n",
    "\n",
    "# 使用改進後的函數\n",
    "process_improved(5, 3, \"add\", True)\n",
    "result = process_improved(10, 4, \"multiply\", False)\n",
    "print(f\"結果: {result}\")"
   ]
  },
  {
   "cell_type": "markdown",
   "metadata": {},
   "source": [
    "## 小結\n",
    "\n",
    "在本節中，我們學習了：\n",
    "\n",
    "- 如何定義和調用函數\n",
    "- 函數命名規則和最佳實踐\n",
    "- 如何編寫清晰的函數文檔\n",
    "- 不同的函數調用方式\n",
    "- 提前返回和無返回值的函數\n",
    "- 函數設計的原則和技巧\n",
    "\n",
    "在下一節，我們將深入探討函數的參數類型與傳遞機制。"
   ]
  }
 ],
 "metadata": {
  "kernelspec": {
   "display_name": "Python 3",
   "language": "python",
   "name": "python3"
  },
  "language_info": {
   "codemirror_mode": {
    "name": "ipython",
    "version": 3
   },
   "file_extension": ".py",
   "mimetype": "text/x-python",
   "name": "python",
   "nbconvert_exporter": "python",
   "pygments_lexer": "ipython3",
   "version": "3.9.7"
  }
 },
 "nbformat": 4,
 "nbformat_minor": 4
}