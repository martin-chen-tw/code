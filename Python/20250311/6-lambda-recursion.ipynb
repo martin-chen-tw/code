{
 "cells": [
  {
   "cell_type": "markdown",
   "metadata": {},
   "source": [
    "# 6. Lambda與遞迴函數\n",
    "\n",
    "在這一節中，我們將學習兩個進階的函數概念：Lambda函數（匿名函數）和遞迴函數。這些概念為我們提供了更強大和靈活的函數編程能力。"
   ]
  },
  {
   "cell_type": "markdown",
   "metadata": {},
   "source": [
    "## 6.1 Lambda函數\n",
    "\n",
    "Lambda 函數是一種小型匿名函數，可以包含任意數量的參數，但只能有一個表達式。Lambda 函數通常用於需要函數對象的地方，如排序或過濾操作。"
   ]
  },
  {
   "cell_type": "markdown",
   "metadata": {},
   "source": [
    "### 6.1.1 Lambda 語法\n",
    "\n",
    "Lambda 函數的基本語法如下：\n",
    "\n",
    "```python\n",
    "lambda 參數1, 參數2, ...: 表達式\n",
    "```\n",
    "\n",
    "這裡的表達式是單一的，會被計算並返回。"
   ]
  },
  {
   "cell_type": "code",
   "execution_count": null,
   "metadata": {},
   "outputs": [],
   "source": [
    "# 基本 lambda 函數\n",
    "square = lambda x: x ** 2\n",
    "print(f\"5 的平方: {square(5)}\")\n",
    "\n",
    "# 多參數 lambda 函數\n",
    "add = lambda x, y: x + y\n",
    "print(f\"3 + 4 = {add(3, 4)}\")"
   ]
  },
  {
   "cell_type": "markdown",
   "metadata": {},
   "source": [
    "### 6.1.2 Lambda 與常規函數的比較"
   ]
  },
  {
   "cell_type": "code",
   "execution_count": null,
   "metadata": {},
   "outputs": [],
   "source": [
    "# 常規函數\n",
    "def square_function(x):\n",
    "    return x ** 2\n",
    "\n",
    "# 等價的 lambda 函數\n",
    "square_lambda = lambda x: x ** 2\n",
    "\n",
    "print(f\"常規函數: 5 的平方 = {square_function(5)}\")\n",
    "print(f\"Lambda 函數: 5 的平方 = {square_lambda(5)}\")"
   ]
  },
  {
   "cell_type": "markdown",
   "metadata": {},
   "source": [
    "**Lambda 函數的特點**：\n",
    "- 可以在一行內定義簡單函數\n",
    "- 沒有名稱（匿名）\n",
    "- 只能包含一個表達式\n",
    "- 不能包含多行語句或複雜邏輯\n",
    "- 不能包含文檔字符串"
   ]
  },
  {
   "cell_type": "markdown",
   "metadata": {},
   "source": [
    "### 6.1.3 Lambda 函數的常見用途\n",
    "\n",
    "Lambda 函數最常用於以下情況：\n",
    "1. 作為高階函數的參數\n",
    "2. 用於排序和過濾操作\n",
    "3. 需要臨時函數的場景"
   ]
  },
  {
   "cell_type": "code",
   "execution_count": null,
   "metadata": {},
   "outputs": [],
   "source": [
    "# 1. 用於排序 (sorted 函數)\n",
    "names = [\"Alice\", \"Bob\", \"Charlie\", \"David\", \"Eva\"]\n",
    "\n",
    "# 按照名字長度排序\n",
    "sorted_by_length = sorted(names, key=lambda name: len(name))\n",
    "print(f\"按名字長度排序: {sorted_by_length}\")\n",
    "\n",
    "# 按照名字的最後一個字母排序\n",
    "sorted_by_last_letter = sorted(names, key=lambda name: name[-1])\n",
    "print(f\"按最後一個字母排序: {sorted_by_last_letter}\")"
   ]
  },
  {
   "cell_type": "code",
   "execution_count": null,
   "metadata": {},
   "outputs": [],
   "source": [
    "# 2. 用於過濾 (filter 函數)\n",
    "numbers = [1, 2, 3, 4, 5, 6, 7, 8, 9, 10]\n",
    "\n",
    "# 過濾偶數\n",
    "even_numbers = list(filter(lambda x: x % 2 == 0, numbers))\n",
    "print(f\"偶數: {even_numbers}\")\n",
    "\n",
    "# 過濾長度大於4的名字\n",
    "long_names = list(filter(lambda name: len(name) > 4, names))\n",
    "print(f\"長度大於4的名字: {long_names}\")"
   ]
  },
  {
   "cell_type": "code",
   "execution_count": null,
   "metadata": {},
   "outputs": [],
   "source": [
    "# 3. 用於映射 (map 函數)\n",
    "# 將所有數字平方\n",
    "squared_numbers = list(map(lambda x: x ** 2, numbers))\n",
    "print(f\"所有數字的平方: {squared_numbers}\")\n",
    "\n",
    "# 將所有名字轉為大寫\n",
    "uppercase_names = list(map(lambda name: name.upper(), names))\n",
    "print(f\"大寫名字: {uppercase_names}\")"
   ]
  },
  {
   "cell_type": "markdown",
   "metadata": {},
   "source": [
    "### 6.1.4 Lambda 函數的最佳實踐\n",
    "\n",
    "雖然 Lambda 函數很方便，但並不總是最佳選擇。以下是一些使用 Lambda 的建議："
   ]
  },
  {
   "cell_type": "markdown",
   "metadata": {},
   "source": [
    "**何時使用 Lambda**：\n",
    "- 簡單的一行表達式\n",
    "- 臨時使用且不需要重用\n",
    "- 作為高階函數的參數\n",
    "\n",
    "**何時使用常規函數**：\n",
    "- 複雜邏輯\n",
    "- 需要文檔字符串\n",
    "- 需要多次使用\n",
    "- 需要更好的可讀性"
   ]
  },
  {
   "cell_type": "code",
   "execution_count": null,
   "metadata": {},
   "outputs": [],
   "source": [
    "# 適合使用 lambda 的情況\n",
    "students = [\n",
    "    {\"name\": \"張三\", \"score\": 85},\n",
    "    {\"name\": \"李四\", \"score\": 92},\n",
    "    {\"name\": \"王五\", \"score\": 78}\n",
    "]\n",
    "\n",
    "# 按照分數排序\n",
    "top_students = sorted(students, key=lambda s: s[\"score\"], reverse=True)\n",
    "print(\"按分數排序的學生:\")\n",
    "for student in top_students:\n",
    "    print(f\"  {student['name']}: {student['score']}\")"
   ]
  },
  {
   "cell_type": "code",
   "execution_count": null,
   "metadata": {},
   "outputs": [],
   "source": [
    "# 不適合使用 lambda 的情況（複雜邏輯）\n",
    "\n",
    "# 較差的方式: lambda 太複雜\n",
    "grade_lambda = lambda score: \"A\" if score >= 90 else (\"B\" if score >= 80 else (\"C\" if score >= 70 else (\"D\" if score >= 60 else \"F\")))\n",
    "\n",
    "# 更好的方式: 使用常規函數\n",
    "def get_grade(score):\n",
    "    \"\"\"根據分數返回等級\"\"\"\n",
    "    if score >= 90:\n",
    "        return \"A\"\n",
    "    elif score >= 80:\n",
    "        return \"B\"\n",
    "    elif score >= 70:\n",
    "        return \"C\"\n",
    "    elif score >= 60:\n",
    "        return \"D\"\n",
    "    else:\n",
    "        return \"F\"\n",
    "\n",
    "    # 測試兩種方法\n",
    "score = 85\n",
    "print(f\"使用 lambda: 分數 {score} 的等級是 {grade_lambda(score)}\")\n",
    "print(f\"使用函數: 分數 {score} 的等級是 {get_grade(score)}\")"
   ]
  },
  {
   "cell_type": "markdown",
   "metadata": {},
   "source": [
    "## 6.2 遞迴函數\n",
    "\n",
    "遞迴函數是調用自身的函數。使用遞迴可以用簡潔的代碼解決某些問題，特別是可以分解為更小、相似子問題的任務。"
   ]
  },
  {
   "cell_type": "markdown",
   "metadata": {},
   "source": [
    "### 6.2.1 遞迴的基本概念\n",
    "\n",
    "一個遞迴函數通常包含兩部分：\n",
    "1. **基本情況（Base Case）**：不需要進一步遞迴，可以直接返回結果的情況\n",
    "2. **遞迴情況（Recursive Case）**：函數調用自身，但使用更簡單或更小的問題"
   ]
  },
  {
   "cell_type": "code",
   "execution_count": null,
   "metadata": {},
   "outputs": [],
   "source": [
    "# 計算階乘的遞迴函數\n",
    "def factorial(n):\n",
    "    \"\"\"計算 n 的階乘\"\"\"\n",
    "    # 基本情況：0 或 1 的階乘為 1\n",
    "    if n <= 1:\n",
    "        return 1\n",
    "    # 遞迴情況：n 的階乘等於 n 乘以 (n-1) 的階乘\n",
    "    else:\n",
    "        return n * factorial(n - 1)\n",
    "\n",
    "# 測試遞迴階乘\n",
    "for i in range(6):\n",
    "    print(f\"{i}! = {factorial(i)}\")"
   ]
  },
  {
   "cell_type": "markdown",
   "metadata": {},
   "source": [
    "### 6.2.2 遞迴的工作原理\n",
    "\n",
    "讓我們深入了解遞迴是如何工作的，以階乘計算為例："
   ]
  },
  {
   "cell_type": "code",
   "execution_count": null,
   "metadata": {},
   "outputs": [],
   "source": [
    "def factorial_with_trace(n, level=0):\n",
    "    \"\"\"計算階乘，並顯示遞迴過程\"\"\"\n",
    "    # 顯示進入函數的信息\n",
    "    indent = \"  \" * level\n",
    "    print(f\"{indent}計算 factorial({n})\")\n",
    "    \n",
    "    # 基本情況\n",
    "    if n <= 1:\n",
    "        result = 1\n",
    "        print(f\"{indent}基本情況: factorial({n}) = {result}\")\n",
    "    # 遞迴情況\n",
    "    else:\n",
    "        smaller_result = factorial_with_trace(n - 1, level + 1)\n",
    "        result = n * smaller_result\n",
    "        print(f\"{indent}遞迴情況: {n} * factorial({n-1}) = {n} * {smaller_result} = {result}\")\n",
    "    \n",
    "    return result\n",
    "\n",
    "# 測試帶跟蹤的階乘\n",
    "result = factorial_with_trace(4)\n",
    "print(f\"\\n最終結果: 4! = {result}\")"
   ]
  },
  {
   "cell_type": "markdown",
   "metadata": {},
   "source": [
    "### 6.2.3 遞迴函數的例子：斐波那契數列\n",
    "\n",
    "斐波那契數列是遞迴的經典例子，定義為：$F(0) = 0$, $F(1) = 1$, $F(n) = F(n-1) + F(n-2)$ 對於 $n > 1$"
   ]
  },
  {
   "cell_type": "code",
   "execution_count": null,
   "metadata": {},
   "outputs": [],
   "source": [
    "# 計算斐波那契數列的遞迴函數\n",
    "def fibonacci(n):\n",
    "    \"\"\"計算斐波那契數列的第 n 項\"\"\"\n",
    "    # 基本情況\n",
    "    if n <= 0:\n",
    "        return 0\n",
    "    elif n == 1:\n",
    "        return 1\n",
    "    # 遞迴情況\n",
    "    else:\n",
    "        return fibonacci(n - 1) + fibonacci(n - 2)\n",
    "\n",
    "# 測試斐波那契函數\n",
    "for i in range(10):\n",
    "    print(f\"fibonacci({i}) = {fibonacci(i)}\")"
   ]
  },
  {
   "cell_type": "markdown",
   "metadata": {},
   "source": [
    "### 6.2.4 遞迴的優點和缺點\n",
    "\n",
    "**優點**:\n",
    "- 代碼可能更簡潔易懂\n",
    "- 某些問題的自然解決方法（例如樹遍歷）\n",
    "- 可以表達數學上的遞迴定義\n",
    "\n",
    "**缺點**:\n",
    "- 可能導致堆棧溢出（Python 默認遞迴深度限制為 1000）\n",
    "- 效率可能較低（有重複計算）\n",
    "- 對於大輸入可能導致效能問題"
   ]
  },
  {
   "cell_type": "markdown",
   "metadata": {},
   "source": [
    "以斐波那契數列為例，純遞迴解法效率很低，因為有大量重複計算。我們可以比較遞迴版本和迭代版本的效率："
   ]
  },
  {
   "cell_type": "code",
   "execution_count": null,
   "metadata": {},
   "outputs": [],
   "source": [
    "# 計算斐波那契數列的迭代函數\n",
    "def fibonacci_iterative(n):\n",
    "    \"\"\"使用迭代計算斐波那契數列的第 n 項\"\"\"\n",
    "    if n <= 0:\n",
    "        return 0\n",
    "    if n == 1:\n",
    "        return 1\n",
    "    \n",
    "    a, b = 0, 1\n",
    "    for _ in range(2, n + 1):\n",
    "        a, b = b, a + b\n",
    "    return b\n",
    "\n",
    "# 比較兩種方法的效率\n",
    "import time\n",
    "\n",
    "# 測試小輸入\n",
    "n = 10\n",
    "print(f\"計算 fibonacci({n})\")\n",
    "\n",
    "start_time = time.time()\n",
    "result_recursive = fibonacci(n)\n",
    "recursive_time = time.time() - start_time\n",
    "\n",
    "start_time = time.time()\n",
    "result_iterative = fibonacci_iterative(n)\n",
    "iterative_time = time.time() - start_time\n",
    "\n",
    "print(f\"遞迴方法結果: {result_recursive}，耗時: {recursive_time:.6f} 秒\")\n",
    "print(f\"迭代方法結果: {result_iterative}，耗時: {iterative_time:.6f} 秒\")\n",
    "\n",
    "# 測試較大輸入\n",
    "n = 30\n",
    "print(f\"\\n計算 fibonacci({n})\")\n",
    "\n",
    "start_time = time.time()\n",
    "result_recursive = fibonacci(n)\n",
    "recursive_time = time.time() - start_time\n",
    "\n",
    "start_time = time.time()\n",
    "result_iterative = fibonacci_iterative(n)\n",
    "iterative_time = time.time() - start_time\n",
    "\n",
    "print(f\"遞迴方法結果: {result_recursive}，耗時: {recursive_time:.6f} 秒\")\n",
    "print(f\"迭代方法結果: {result_iterative}，耗時: {iterative_time:.6f} 秒\")\n",
    "print(f\"效率提升: {recursive_time/iterative_time:.1f} 倍\")"
   ]
  },
  {
   "cell_type": "markdown",
   "metadata": {},
   "source": [
    "### 6.2.5 使用記憶化改進遞迴\n",
    "\n",
    "記憶化是一種優化技術，通過存儲先前計算的結果來避免重複計算。"
   ]
  },
  {
   "cell_type": "code",
   "execution_count": null,
   "metadata": {},
   "outputs": [],
   "source": [
    "# 使用字典進行記憶化\n",
    "def fibonacci_memo(n, memo={}):\n",
    "    \"\"\"使用記憶化計算斐波那契數列\"\"\"\n",
    "    # 檢查結果是否已經計算過\n",
    "    if n in memo:\n",
    "        return memo[n]\n",
    "    \n",
    "    # 計算結果\n",
    "    if n <= 0:\n",
    "        result = 0\n",
    "    elif n == 1:\n",
    "        result = 1\n",
    "    else:\n",
    "        result = fibonacci_memo(n - 1, memo) + fibonacci_memo(n - 2, memo)\n",
    "    \n",
    "    # 存儲結果並返回\n",
    "    memo[n] = result\n",
    "    return result\n",
    "\n",
    "# 使用 functools.lru_cache 裝飾器\n",
    "from functools import lru_cache\n",
    "\n",
    "@lru_cache(maxsize=None)\n",
    "def fibonacci_cache(n):\n",
    "    \"\"\"使用 lru_cache 裝飾器計算斐波那契數列\"\"\"\n",
    "    if n <= 0:\n",
    "        return 0\n",
    "    elif n == 1:\n",
    "        return 1\n",
    "    else:\n",
    "        return fibonacci_cache(n - 1) + fibonacci_cache(n - 2)\n",
    "\n",
    "# 比較所有方法的效率\n",
    "n = 30\n",
    "print(f\"計算 fibonacci({n})\")\n",
    "\n",
    "start_time = time.time()\n",
    "result_recursive = fibonacci(n)\n",
    "recursive_time = time.time() - start_time\n",
    "\n",
    "start_time = time.time()\n",
    "result_memo = fibonacci_memo(n)\n",
    "memo_time = time.time() - start_time\n",
    "\n",
    "start_time = time.time()\n",
    "result_cache = fibonacci_cache(n)\n",
    "cache_time = time.time() - start_time\n",
    "\n",
    "start_time = time.time()\n",
    "result_iterative = fibonacci_iterative(n)\n",
    "iterative_time = time.time() - start_time\n",
    "\n",
    "print(f\"純遞迴方法耗時: {recursive_time:.6f} 秒\")\n",
    "print(f\"記憶化方法耗時: {memo_time:.6f} 秒\")\n",
    "print(f\"lru_cache 方法耗時: {cache_time:.6f} 秒\")\n",
    "print(f\"迭代方法耗時: {iterative_time:.6f} 秒\")"
   ]
  },
  {
   "cell_type": "markdown",
   "metadata": {},
   "source": [
    "### 6.2.6 適合遞迴的問題類型\n",
    "\n",
    "某些問題特別適合使用遞迴解決，例如：\n",
    "\n",
    "1. 樹形結構的遍歷和搜索\n",
    "2. 分治法算法（如快速排序、合併排序）\n",
    "3. 生成組合或排列\n",
    "4. 自然遞迴定義的問題"
   ]
  },
  {
   "cell_type": "code",
   "execution_count": null,
   "metadata": {},
   "outputs": [],
   "source": [
    "# 例子：使用遞迴生成所有可能的二進制串\n",
    "def generate_binary(n, prefix=\"\"):\n",
    "    \"\"\"生成長度為 n 的所有可能二進制串\"\"\"\n",
    "    # 基本情況：已經生成了長度為 n 的字符串\n",
    "    if len(prefix) == n:\n",
    "        return [prefix]\n",
    "    \n",
    "    # 遞迴情況：添加 0 或 1 並繼續\n",
    "    return generate_binary(n, prefix + \"0\") + generate_binary(n, prefix + \"1\")\n",
    "\n",
    "# 生成長度為 3 的所有二進制串\n",
    "binary_strings = generate_binary(3)\n",
    "print(f\"長度為 3 的所有二進制串: {binary_strings}\")"
   ]
  },
  {
   "cell_type": "markdown",
   "metadata": {},
   "source": [
    "## 6.3 結合 Lambda 和遞迴\n",
    "\n",
    "我們可以結合 Lambda 和遞迴，但由於 Lambda 是匿名的，需要一些特殊技巧。"
   ]
  },
  {
   "cell_type": "code",
   "execution_count": null,
   "metadata": {},
   "outputs": [],
   "source": [
    "# 使用 Y 組合子實現 Lambda 遞迴\n",
    "# 注意：這只是展示，通常不推薦在實際代碼中這樣使用\n",
    "Y = lambda f: (lambda x: x(x))(lambda x: f(lambda *args: x(x)(*args)))\n",
    "\n",
    "# 使用 Y 組合子定義階乘\n",
    "factorial_y = Y(lambda f: lambda n: 1 if n <= 1 else n * f(n-1))\n",
    "\n",
    "# 測試\n",
    "print(f\"使用 Y 組合子的階乘: 5! = {factorial_y(5)}\")"
   ]
  },
  {
   "cell_type": "markdown",
   "metadata": {},
   "source": [
    "## 6.4 練習：Lambda 和遞迴的應用\n",
    "\n",
    "### 練習 1: 使用 Lambda 為人員列表排序\n",
    "\n",
    "有一個包含人員信息的列表，每個人有名字、年齡和城市。使用 Lambda 函數按照不同的條件對列表進行排序。"
   ]
  },
  {
   "cell_type": "code",
   "execution_count": null,
   "metadata": {},
   "outputs": [],
   "source": [
    "# 練習 1 解答\n",
    "people = [\n",
    "    {\"name\": \"張三\", \"age\": 30, \"city\": \"台北\"},\n",
    "    {\"name\": \"李四\", \"age\": 25, \"city\": \"高雄\"},\n",
    "    {\"name\": \"王五\", \"age\": 35, \"city\": \"台中\"},\n",
    "    {\"name\": \"趙六\", \"age\": 28, \"city\": \"台北\"},\n",
    "    {\"name\": \"孫七\", \"age\": 32, \"city\": \"高雄\"}\n",
    "]\n",
    "\n",
    "# 按年齡排序\n",
    "age_sorted = sorted(people, key=lambda person: person[\"age\"])\n",
    "print(\"按年齡排序:\")\n",
    "for person in age_sorted:\n",
    "    print(f\"  {person['name']}, {person['age']}歲, {person['city']}\")\n",
    "\n",
    "# 按城市排序，然後按年齡排序（多重排序）\n",
    "city_age_sorted = sorted(people, key=lambda person: (person[\"city\"], person[\"age\"]))\n",
    "print(\"\\n按城市然後年齡排序:\")\n",
    "for person in city_age_sorted:\n",
    "    print(f\"  {person['name']}, {person['age']}歲, {person['city']}\")\n",
    "\n",
    "# 按名字長度排序\n",
    "name_length_sorted = sorted(people, key=lambda person: len(person[\"name\"]))\n",
    "print(\"\\n按名字長度排序:\")\n",
    "for person in name_length_sorted:\n",
    "    print(f\"  {person['name']}, {person['age']}歲, {person['city']}\")"
   ]
  },
  {
   "cell_type": "markdown",
   "metadata": {},
   "source": [
    "### 練習 2: 編寫遞迴函數計算數組和\n",
    "\n",
    "編寫一個遞迴函數，用於計算數組中所有元素的和。"
   ]
  },
  {
   "cell_type": "code",
   "execution_count": null,
   "metadata": {},
   "outputs": [],
   "source": [
    "# 練習 2 解答\n",
    "def recursive_sum(arr):\n",
    "    \"\"\"遞迴計算數組和\"\"\"\n",
    "    # 基本情況：空數組\n",
    "    if not arr:\n",
    "        return 0\n",
    "    # 遞迴情況：第一個元素 + 剩餘元素的和\n",
    "    return arr[0] + recursive_sum(arr[1:])\n",
    "\n",
    "# 測試\n",
    "numbers = [1, 2, 3, 4, 5]\n",
    "print(f\"數組 {numbers} 的和: {recursive_sum(numbers)}\")\n",
    "\n",
    "# 改進版本（避免數組切片帶來的效率問題）\n",
    "def recursive_sum_improved(arr, index=0):\n",
    "    \"\"\"更高效的遞迴計算數組和\"\"\"\n",
    "    # 基本情況：到達數組末尾\n",
    "    if index >= len(arr):\n",
    "        return 0\n",
    "    # 遞迴情況：當前元素 + 後續元素的和\n",
    "    return arr[index] + recursive_sum_improved(arr, index + 1)\n",
    "\n",
    "# 測試改進版本\n",
    "print(f\"數組 {numbers} 的和 (改進版): {recursive_sum_improved(numbers)}\")"
   ]
  },
  {
   "cell_type": "markdown",
   "metadata": {},
   "source": [
    "## 小結\n",
    "\n",
    "在本節中，我們學習了 Lambda 函數和遞迴函數的概念與應用：\n",
    "\n",
    "**Lambda 函數**：\n",
    "- 創建簡單的匿名函數\n",
    "- 常用於排序、過濾和映射操作\n",
    "- 適合簡單的單行表達式\n",
    "\n",
    "**遞迴函數**：\n",
    "- 函數調用自身的機制\n",
    "- 包含基本情況和遞迴情況\n",
    "- 適合樹形結構和分治問題\n",
    "- 可能存在效率問題，但可通過記憶化優化\n",
    "\n",
    "掌握這些概念可以讓我們的代碼更簡潔、更優雅，並能解決更複雜的問題。在下一節中，我們將通過實用練習進一步鞏固所學內容。"
   ]
  }
 ],
 "metadata": {
  "kernelspec": {
   "display_name": "Python 3",
   "language": "python",
   "name": "python3"
  },
  "language_info": {
   "codemirror_mode": {
    "name": "ipython",
    "version": 3
   },
   "file_extension": ".py",
   "mimetype": "text/x-python",
   "name": "python",
   "nbconvert_exporter": "python",
   "pygments_lexer": "ipython3",
   "version": "3.9.7"
  }
 },
 "nbformat": 4,
 "nbformat_minor": 4
}